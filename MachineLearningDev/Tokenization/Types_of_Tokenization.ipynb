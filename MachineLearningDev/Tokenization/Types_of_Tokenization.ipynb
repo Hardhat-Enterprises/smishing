{
 "cells": [
  {
   "cell_type": "markdown",
   "id": "cc600ca7",
   "metadata": {},
   "source": [
    "# Research and evaluation on various tokenization methods"
   ]
  },
  {
   "cell_type": "markdown",
   "id": "168c28c9",
   "metadata": {},
   "source": [
    "#This notebook is written and reviewed by Ratanakmoni(Ryan) Slot (222146996) & Ahmed Aldhaheri (219256667)"
   ]
  },
  {
   "cell_type": "markdown",
   "id": "b5cc7c01",
   "metadata": {},
   "source": [
    "# Cell 1: Introduction and Libraries"
   ]
  },
  {
   "cell_type": "markdown",
   "id": "7caded0f",
   "metadata": {},
   "source": [
    "#Code by Ahmed"
   ]
  },
  {
   "cell_type": "code",
   "execution_count": 101,
   "id": "15625f92",
   "metadata": {},
   "outputs": [
    {
     "name": "stdout",
     "output_type": "stream",
     "text": [
      "\n",
      "This notebook is designed to research and test various tokenization methods for phishing URL detection.\n",
      "The goal is to evaluate the performance of different tokenizers in breaking down URLs and detecting phishing patterns.\n",
      "These libraries are essential for the tasks of downloading datasets, processing URLs, tokenizing the data, and evaluating the effectiveness of different tokenization methods.\n",
      "\n"
     ]
    }
   ],
   "source": [
    "# Print explanation\n",
    "print(\"\"\"\n",
    "This notebook is designed to research and test various tokenization methods for phishing URL detection.\n",
    "The goal is to evaluate the performance of different tokenizers in breaking down URLs and detecting phishing patterns.\n",
    "These libraries are essential for the tasks of downloading datasets, processing URLs, tokenizing the data, and evaluating the effectiveness of different tokenization methods.\n",
    "\"\"\")\n",
    "\n",
    "# Importing necessary libraries\n",
    "import re  # Regular expressions for tokenization\n",
    "import tldextract  # Extract domains and subdomains from URLs\n",
    "import pandas as pd  # Pandas for data manipulation\n",
    "import matplotlib.pyplot as plt  # Plotting\n",
    "import requests  # For downloading datasets from the web\n",
    "import gzip  # For uncompressing gzipped files\n",
    "import shutil  # For file operations\n",
    "import csv  # For saving CSV files\n",
    "from bs4 import BeautifulSoup  # Web scraping to collect legitimate URLs\n",
    "from sklearn.model_selection import train_test_split  # Splitting data into training and testing sets\n",
    "from sklearn.feature_extraction.text import CountVectorizer  # Converting text data into numerical form\n",
    "from sklearn.linear_model import LogisticRegression  # Machine learning model for classification\n",
    "from sklearn.metrics import classification_report  # Evaluation metrics for model performance\n",
    "import os  # For file and directory handling\n"
   ]
  },
  {
   "cell_type": "markdown",
   "id": "0ee08c0a",
   "metadata": {},
   "source": [
    "# Cell 2: Download and Uncompress Phishing URLs"
   ]
  },
  {
   "cell_type": "markdown",
   "id": "30f8a794",
   "metadata": {},
   "source": [
    "#Code by Ahmed"
   ]
  },
  {
   "cell_type": "code",
   "execution_count": 102,
   "id": "2ee53f47",
   "metadata": {
    "scrolled": true
   },
   "outputs": [
    {
     "name": "stdout",
     "output_type": "stream",
     "text": [
      "═════════════════════════════════════════════════════════════════════\n",
      "📥  Downloading Phishing URLs Dataset from PhishTank\n",
      "═════════════════════════════════════════════════════════════════════\n",
      "❌  Failed to download phishing URLs. Status code: 429\n",
      "\n",
      "📝  Previewing the first few rows of the Phishing URLs dataset:\n",
      "═════════════════════════════════════════════════════════════════════\n",
      "📊  The dataset contains 82855 rows.\n",
      "═════════════════════════════════════════════════════════════════════\n",
      "   phish_id                                   url  \\\n",
      "0   8727273  https://aserg-105977.weeblysite.com/   \n",
      "1   8727269    http://docs-learn-trezor.pages.dev   \n",
      "2   8727268    https://aplwmensduejsa.weebly.com/   \n",
      "3   8727262                   https://heevri.help   \n",
      "4   8727256               https://parcelevris.top   \n",
      "\n",
      "                                    phish_detail_url  \\\n",
      "0  http://www.phishtank.com/phish_detail.php?phis...   \n",
      "1  http://www.phishtank.com/phish_detail.php?phis...   \n",
      "2  http://www.phishtank.com/phish_detail.php?phis...   \n",
      "3  http://www.phishtank.com/phish_detail.php?phis...   \n",
      "4  http://www.phishtank.com/phish_detail.php?phis...   \n",
      "\n",
      "             submission_time verified          verification_time online target  \n",
      "0  2024-08-22T10:09:53+00:00      yes  2024-08-22T10:13:32+00:00    yes  Other  \n",
      "1  2024-08-22T10:02:48+00:00      yes  2024-08-22T10:13:32+00:00    yes  Other  \n",
      "2  2024-08-22T10:01:38+00:00      yes  2024-08-22T10:13:32+00:00    yes  Other  \n",
      "3  2024-08-22T09:53:16+00:00      yes  2024-08-22T10:04:26+00:00    yes  Other  \n",
      "4  2024-08-22T09:47:37+00:00      yes  2024-08-22T09:52:58+00:00    yes  Other  \n",
      "═════════════════════════════════════════════════════════════════════\n"
     ]
    }
   ],
   "source": [
    "import requests\n",
    "import gzip\n",
    "import shutil\n",
    "import pandas as pd\n",
    "\n",
    "def download_and_uncompress_phishtank_data():\n",
    "    # Define the URL for the CSV file\n",
    "    url = \"http://data.phishtank.com/data/online-valid.csv.gz\"\n",
    "    \n",
    "    # Print a stylish header\n",
    "    print(\"═════════════════════════════════════════════════════════════════════\")\n",
    "    print(\"📥  Downloading Phishing URLs Dataset from PhishTank\")\n",
    "    print(\"═════════════════════════════════════════════════════════════════════\")\n",
    "    \n",
    "    # Send a request to download the compressed CSV data\n",
    "    response = requests.get(url, stream=True)\n",
    "    \n",
    "    # Check if the request was successful\n",
    "    if response.status_code == 200:\n",
    "        # Save the compressed CSV content to a local file\n",
    "        with open('phishtank_phishing_urls.csv.gz', 'wb') as file:\n",
    "            file.write(response.content)\n",
    "        \n",
    "        print(\"✅  Phishing URLs compressed file downloaded successfully.\")\n",
    "        \n",
    "        # Uncompress the .gz file\n",
    "        with gzip.open('phishtank_phishing_urls.csv.gz', 'rb') as f_in:\n",
    "            with open('phishtank_phishing_urls.csv', 'wb') as f_out:\n",
    "                shutil.copyfileobj(f_in, f_out)\n",
    "        \n",
    "        print(\"✅  Phishing URLs successfully uncompressed and saved as 'phishtank_phishing_urls.csv'\")\n",
    "    else:\n",
    "        print(f\"❌  Failed to download phishing URLs. Status code: {response.status_code}\")\n",
    "        return\n",
    "\n",
    "# Run the function to download and uncompress data\n",
    "download_and_uncompress_phishtank_data()\n",
    "\n",
    "# Load the CSV into a pandas DataFrame and display the first few rows and the row count\n",
    "print(\"\\n📝  Previewing the first few rows of the Phishing URLs dataset:\")\n",
    "try:\n",
    "    phishtank_df = pd.read_csv('phishtank_phishing_urls.csv')\n",
    "    \n",
    "    # Get the total number of rows in the dataset\n",
    "    num_rows = len(phishtank_df)\n",
    "    \n",
    "    # Display the number of rows and the first few rows of the dataset\n",
    "    print(\"═════════════════════════════════════════════════════════════════════\")\n",
    "    print(f\"📊  The dataset contains {num_rows} rows.\")\n",
    "    print(\"═════════════════════════════════════════════════════════════════════\")\n",
    "    print(phishtank_df.head())\n",
    "    print(\"═════════════════════════════════════════════════════════════════════\")\n",
    "except FileNotFoundError:\n",
    "    print(\"❌  Error: 'phishtank_phishing_urls.csv' not found. Please ensure the download was successful.\")\n"
   ]
  },
  {
   "cell_type": "markdown",
   "id": "1cb9bda8",
   "metadata": {},
   "source": [
    "# Cell 3: Scrape Legitimate URLs"
   ]
  },
  {
   "cell_type": "markdown",
   "id": "f2c49158",
   "metadata": {},
   "source": [
    "#Code by Ahmed"
   ]
  },
  {
   "cell_type": "code",
   "execution_count": 103,
   "id": "888efecd",
   "metadata": {},
   "outputs": [
    {
     "name": "stdout",
     "output_type": "stream",
     "text": [
      "═════════════════════════════════════════════════════════════════════\n",
      "🌐  Starting the scraping of legitimate URLs from popular websites\n",
      "═════════════════════════════════════════════════════════════════════\n",
      "🔗  Scraping URLs from https://www.bbc.com ...\n",
      "✅  Successfully scraped 26 URLs from https://www.bbc.com\n",
      "\n",
      "🔗  Scraping URLs from https://www.cnn.com ...\n",
      "✅  Successfully scraped 293 URLs from https://www.cnn.com\n",
      "\n",
      "🔗  Scraping URLs from https://www.wikipedia.org ...\n",
      "✅  Successfully scraped 8 URLs from https://www.wikipedia.org\n",
      "\n",
      "═════════════════════════════════════════════════════════════════════\n",
      "💾  Saving the scraped URLs to 'legitimate_urls.csv'\n",
      "✅  Saved 327 legitimate URLs to 'legitimate_urls.csv'\n",
      "═════════════════════════════════════════════════════════════════════\n"
     ]
    }
   ],
   "source": [
    "import requests\n",
    "from bs4 import BeautifulSoup\n",
    "import csv\n",
    "\n",
    "def scrape_legitimate_urls():\n",
    "    # List of websites to scrape legitimate URLs from\n",
    "    websites = [\n",
    "        'https://www.bbc.com',  # News website\n",
    "        'https://www.cnn.com',  # News website\n",
    "        'https://www.wikipedia.org'  # Educational website\n",
    "    ]\n",
    "    \n",
    "    legitimate_urls = []\n",
    "    \n",
    "    # Stylish header for scraping process\n",
    "    print(\"═════════════════════════════════════════════════════════════════════\")\n",
    "    print(\"🌐  Starting the scraping of legitimate URLs from popular websites\")\n",
    "    print(\"═════════════════════════════════════════════════════════════════════\")\n",
    "\n",
    "    # Loop through each website and scrape the URLs\n",
    "    for website in websites:\n",
    "        try:\n",
    "            print(f\"🔗  Scraping URLs from {website} ...\")\n",
    "            response = requests.get(website)\n",
    "            response.raise_for_status()  # Raise an error for bad responses\n",
    "            \n",
    "            soup = BeautifulSoup(response.text, 'html.parser')\n",
    "            \n",
    "            # Collect all anchor tags with 'href' attributes\n",
    "            count = 0\n",
    "            for link in soup.find_all('a', href=True):\n",
    "                href = link['href']\n",
    "                # Filter out non-http links and keep only legitimate http/https URLs\n",
    "                if href.startswith('http'):\n",
    "                    legitimate_urls.append(href)\n",
    "                    count += 1\n",
    "\n",
    "            print(f\"✅  Successfully scraped {count} URLs from {website}\\n\")\n",
    "        except requests.exceptions.RequestException as e:\n",
    "            print(f\"❌  Failed to scrape {website}. Network error: {str(e)}\\n\")\n",
    "        except Exception as e:\n",
    "            print(f\"❌  Failed to scrape {website}. Error: {str(e)}\\n\")\n",
    "    \n",
    "    # Save the legitimate URLs to a CSV file\n",
    "    if legitimate_urls:\n",
    "        print(\"═════════════════════════════════════════════════════════════════════\")\n",
    "        print(\"💾  Saving the scraped URLs to 'legitimate_urls.csv'\")\n",
    "        try:\n",
    "            with open('legitimate_urls.csv', 'w', newline='') as file:\n",
    "                writer = csv.writer(file)\n",
    "                writer.writerow([\"URL\", \"Phishing_Label\"])  # Label: 0 for legitimate URLs\n",
    "                for legitimate_url in legitimate_urls:\n",
    "                    writer.writerow([legitimate_url, 0])\n",
    "            \n",
    "            print(f\"✅  Saved {len(legitimate_urls)} legitimate URLs to 'legitimate_urls.csv'\")\n",
    "        except Exception as e:\n",
    "            print(f\"❌  Failed to save the URLs to CSV. Error: {str(e)}\")\n",
    "    else:\n",
    "        print(\"❌  No legitimate URLs were scraped, so no file was saved.\")\n",
    "    \n",
    "    print(\"═════════════════════════════════════════════════════════════════════\")\n",
    "\n",
    "# Run the function to scrape legitimate URLs\n",
    "scrape_legitimate_urls()\n"
   ]
  },
  {
   "cell_type": "markdown",
   "id": "311aff8a",
   "metadata": {},
   "source": [
    "# Cell 4: Combine and Clean Datasets"
   ]
  },
  {
   "cell_type": "markdown",
   "id": "e6453726",
   "metadata": {},
   "source": [
    "#Code by Ahmed"
   ]
  },
  {
   "cell_type": "code",
   "execution_count": 104,
   "id": "a12d66aa",
   "metadata": {},
   "outputs": [
    {
     "name": "stdout",
     "output_type": "stream",
     "text": [
      "═════════════════════════════════════════════════════════════════════\n",
      "🔄  Starting the process of combining Phishing and Legitimate URLs\n",
      "═════════════════════════════════════════════════════════════════════\n",
      "🛑  Loaded 82855 phishing URLs from 'phishtank_phishing_urls.csv'\n",
      "🔗  Loaded 327 legitimate URLs from 'legitimate_urls.csv'\n",
      "✅  Combined dataset contains 83182 rows.\n",
      "Rows before cleaning: 83182\n",
      "Rows after cleaning: 83182\n",
      "Number of phishing URLs before balancing: 82855\n",
      "Number of legitimate URLs before balancing: 327\n",
      "Number of legitimate URLs after oversampling: 82855\n",
      "Final class distribution:\n",
      "0    82855\n",
      "1    82855\n",
      "Name: Phishing_Label, dtype: int64\n",
      "✅  Balanced dataset saved as 'balanced_urls_dataset.csv'\n"
     ]
    }
   ],
   "source": [
    "import pandas as pd\n",
    "from sklearn.utils import resample\n",
    "\n",
    "# Step 1: Combine the datasets\n",
    "def combine_datasets():\n",
    "    print(\"═════════════════════════════════════════════════════════════════════\")\n",
    "    print(\"🔄  Starting the process of combining Phishing and Legitimate URLs\")\n",
    "    print(\"═════════════════════════════════════════════════════════════════════\")\n",
    "\n",
    "    try:\n",
    "        # Load phishing URLs dataset\n",
    "        phishing_df = pd.read_csv('phishtank_phishing_urls.csv')\n",
    "        phishing_df['Phishing_Label'] = 1  # Label phishing URLs as 1\n",
    "        num_phishing = len(phishing_df)\n",
    "        print(f\"🛑  Loaded {num_phishing} phishing URLs from 'phishtank_phishing_urls.csv'\")\n",
    "    except FileNotFoundError:\n",
    "        print(\"❌  Error: 'phishtank_phishing_urls.csv' not found.\")\n",
    "        return None\n",
    "\n",
    "    try:\n",
    "        # Load legitimate URLs dataset\n",
    "        legitimate_df = pd.read_csv('legitimate_urls.csv')\n",
    "        legitimate_df['Phishing_Label'] = 0  # Label legitimate URLs as 0\n",
    "        num_legitimate = len(legitimate_df)\n",
    "        print(f\"🔗  Loaded {num_legitimate} legitimate URLs from 'legitimate_urls.csv'\")\n",
    "    except FileNotFoundError:\n",
    "        print(\"❌  Error: 'legitimate_urls.csv' not found.\")\n",
    "        return None\n",
    "\n",
    "    # Combine both datasets\n",
    "    combined_df = pd.concat([phishing_df, legitimate_df], ignore_index=True)\n",
    "    print(f\"✅  Combined dataset contains {len(combined_df)} rows.\")\n",
    "    \n",
    "    # Save the combined dataset to CSV\n",
    "    combined_df.to_csv('combined_urls_dataset.csv', index=False)\n",
    "    \n",
    "    return combined_df\n",
    "\n",
    "# Call the combine_datasets function and check if successful\n",
    "combined_df = combine_datasets()\n",
    "if combined_df is None:\n",
    "    raise ValueError(\"Failed to load and combine datasets. Please check your input files.\")\n",
    "\n",
    "# Step 2: Handle Missing Values (Cleaning the Dataset)\n",
    "def clean_dataset(df):\n",
    "    # Drop rows with NaN values in both 'url' and 'URL' columns\n",
    "    df_cleaned = df.dropna(subset=['url', 'URL'], how='all')  \n",
    "    \n",
    "    # Combine 'url' and 'URL' into a single column for cleaning\n",
    "    df_cleaned['final_url'] = df_cleaned['url'].combine_first(df_cleaned['URL'])\n",
    "    \n",
    "    # Filter out invalid URLs that do not start with http/https\n",
    "    df_cleaned = df_cleaned[df_cleaned['final_url'].str.contains('http|https', regex=True, na=False)]\n",
    "    \n",
    "    # Display the number of rows before and after cleaning\n",
    "    print(f\"Rows before cleaning: {len(df)}\")\n",
    "    print(f\"Rows after cleaning: {len(df_cleaned)}\")\n",
    "    \n",
    "    return df_cleaned\n",
    "\n",
    "# Apply cleaning to the combined dataset\n",
    "combined_df_cleaned = clean_dataset(combined_df)\n",
    "\n",
    "# Step 3: Balance the Dataset\n",
    "def balance_dataset(df):\n",
    "    phishing_df = df[df['Phishing_Label'] == 1]\n",
    "    legitimate_df = df[df['Phishing_Label'] == 0]\n",
    "    \n",
    "    # Check the sizes of the datasets before balancing\n",
    "    print(f\"Number of phishing URLs before balancing: {len(phishing_df)}\")\n",
    "    print(f\"Number of legitimate URLs before balancing: {len(legitimate_df)}\")\n",
    "    \n",
    "    if len(legitimate_df) == 0:\n",
    "        raise ValueError(\"No legitimate URLs found after cleaning.\")\n",
    "    \n",
    "    # Oversample legitimate URLs to match the number of phishing URLs\n",
    "    legitimate_oversampled = resample(legitimate_df, \n",
    "                                      replace=True,  # Allow resampling with replacement\n",
    "                                      n_samples=len(phishing_df),  # Match phishing count\n",
    "                                      random_state=42)\n",
    "    \n",
    "    # Check the sizes after oversampling\n",
    "    print(f\"Number of legitimate URLs after oversampling: {len(legitimate_oversampled)}\")\n",
    "    \n",
    "    # Combine the oversampled legitimate URLs with the phishing URLs\n",
    "    balanced_df = pd.concat([phishing_df, legitimate_oversampled])\n",
    "    \n",
    "    # Shuffle the combined dataset to mix phishing and legitimate URLs\n",
    "    balanced_df = balanced_df.sample(frac=1, random_state=42).reset_index(drop=True)\n",
    "    \n",
    "    # Display the final class distribution\n",
    "    print(\"Final class distribution:\")\n",
    "    print(balanced_df['Phishing_Label'].value_counts())\n",
    "    \n",
    "    return balanced_df\n",
    "\n",
    "# Apply balancing to the cleaned dataset\n",
    "balanced_df = balance_dataset(combined_df_cleaned)\n",
    "\n",
    "# Save the balanced dataset to CSV\n",
    "balanced_df.to_csv('balanced_urls_dataset.csv', index=False)\n",
    "print(\"✅  Balanced dataset saved as 'balanced_urls_dataset.csv'\")\n"
   ]
  },
  {
   "cell_type": "markdown",
   "id": "24a950d3",
   "metadata": {},
   "source": [
    "# Regex-Based Tokenization"
   ]
  },
  {
   "cell_type": "markdown",
   "id": "9a2f3637",
   "metadata": {},
   "source": [
    "#Code by Ahmed"
   ]
  },
  {
   "cell_type": "code",
   "execution_count": 105,
   "id": "d003ccaa",
   "metadata": {},
   "outputs": [
    {
     "name": "stdout",
     "output_type": "stream",
     "text": [
      "═════════════════════════════════════════════════════════════════════\n",
      "🔍  Regex-Based Tokenization on URLs\n",
      "═════════════════════════════════════════════════════════════════════\n",
      "✅  Loaded 83182 URLs from 'combined_urls_dataset.csv'\n",
      "⚠️  Found 327 NaN or invalid URLs. Removing them...\n",
      "🔍  Sample of Tokenized Data (Regex-Based):\n",
      "                                                 url  \\\n",
      "0               https://aserg-105977.weeblysite.com/   \n",
      "1                 http://docs-learn-trezor.pages.dev   \n",
      "2                 https://aplwmensduejsa.weebly.com/   \n",
      "3                                https://heevri.help   \n",
      "4                            https://parcelevris.top   \n",
      "5       https://btinternet98715.activehosted.com/f/1   \n",
      "6  https://us22.list-manage.com/survey?u=9060fb04...   \n",
      "7  https://us22.list-manage.com/survey?u=94c6d169...   \n",
      "8  https://us22.list-manage.com/survey?u=97e288ae...   \n",
      "9  https://us22.list-manage.com/survey?u=97e288ae...   \n",
      "\n",
      "                                        regex_tokens  \n",
      "0            [https, aserg, 105977, weeblysite, com]  \n",
      "1            [http, docs, learn, trezor, pages, dev]  \n",
      "2               [https, aplwmensduejsa, weebly, com]  \n",
      "3                              [https, heevri, help]  \n",
      "4                          [https, parcelevris, top]  \n",
      "5  [https, btinternet98715, activehosted, com, f, 1]  \n",
      "6  [https, us22, list, manage, com, survey, u, 90...  \n",
      "7  [https, us22, list, manage, com, survey, u, 94...  \n",
      "8  [https, us22, list, manage, com, survey, u, 97...  \n",
      "9  [https, us22, list, manage, com, survey, u, 97...  \n",
      "💾  Regex-Tokenized dataset saved as 'regex_tokenized_urls_dataset.csv'\n"
     ]
    }
   ],
   "source": [
    "import re\n",
    "import pandas as pd\n",
    "\n",
    "def regex_tokenization():\n",
    "    print(\"═════════════════════════════════════════════════════════════════════\")\n",
    "    print(\"🔍  Regex-Based Tokenization on URLs\")\n",
    "    print(\"═════════════════════════════════════════════════════════════════════\")\n",
    "    \n",
    "    # Load the combined dataset\n",
    "    try:\n",
    "        combined_df = pd.read_csv('combined_urls_dataset.csv', dtype={'url': str}, low_memory=False)\n",
    "        num_rows = len(combined_df)\n",
    "        print(f\"✅  Loaded {num_rows} URLs from 'combined_urls_dataset.csv'\")\n",
    "    except FileNotFoundError:\n",
    "        print(\"❌  Error: 'combined_urls_dataset.csv' not found.\")\n",
    "        return\n",
    "    except pd.errors.EmptyDataError:\n",
    "        print(\"❌  Error: The CSV file is empty or malformed.\")\n",
    "        return\n",
    "\n",
    "    # Check for NaN values in the 'url' column\n",
    "    nan_count = combined_df['url'].isna().sum()\n",
    "    print(f\"⚠️  Found {nan_count} NaN or invalid URLs. Removing them...\")\n",
    "    \n",
    "    # Remove rows with NaN in the 'url' column\n",
    "    combined_df = combined_df.dropna(subset=['url'])\n",
    "    \n",
    "    # Regex-based tokenization\n",
    "    def regex_tokenizer(url):\n",
    "        if isinstance(url, str):\n",
    "            tokens = re.split(r'[/:.?=&-]', url)\n",
    "            return [token for token in tokens if token]  # Remove empty tokens\n",
    "        else:\n",
    "            return []  # Return an empty list if the value is not a string\n",
    "    \n",
    "    # Apply regex tokenization to the valid URLs\n",
    "    combined_df['regex_tokens'] = combined_df['url'].apply(regex_tokenizer)\n",
    "    \n",
    "    # Print a sample of tokenized data\n",
    "    print(\"🔍  Sample of Tokenized Data (Regex-Based):\")\n",
    "    print(combined_df[['url', 'regex_tokens']].head(10))\n",
    "    \n",
    "    # Save the tokenized dataset\n",
    "    combined_df.to_csv('regex_tokenized_urls_dataset.csv', index=False)\n",
    "    print(\"💾  Regex-Tokenized dataset saved as 'regex_tokenized_urls_dataset.csv'\")\n",
    "\n",
    "# Run the regex-based tokenization\n",
    "regex_tokenization()\n"
   ]
  },
  {
   "cell_type": "markdown",
   "id": "9f460cad",
   "metadata": {},
   "source": [
    "# TLD and Subdomain Tokenization"
   ]
  },
  {
   "cell_type": "markdown",
   "id": "d80ee967",
   "metadata": {},
   "source": [
    "#Code by Ryan"
   ]
  },
  {
   "cell_type": "code",
   "execution_count": 106,
   "id": "2ed25b8b",
   "metadata": {},
   "outputs": [
    {
     "name": "stdout",
     "output_type": "stream",
     "text": [
      "═════════════════════════════════════════════════════════════════════\n",
      "🔍  TLD and Subdomain Tokenization on URLs\n",
      "═════════════════════════════════════════════════════════════════════\n",
      "✅  Loaded 83182 URLs from 'combined_urls_dataset.csv'\n",
      "🔍  Sample of Extracted TLD and Subdomain Data:\n",
      "                                                 url          subdomain  \\\n",
      "0               https://aserg-105977.weeblysite.com/       aserg-105977   \n",
      "1                 http://docs-learn-trezor.pages.dev  docs-learn-trezor   \n",
      "2                 https://aplwmensduejsa.weebly.com/     aplwmensduejsa   \n",
      "3                                https://heevri.help                      \n",
      "4                            https://parcelevris.top                      \n",
      "5       https://btinternet98715.activehosted.com/f/1    btinternet98715   \n",
      "6  https://us22.list-manage.com/survey?u=9060fb04...               us22   \n",
      "7  https://us22.list-manage.com/survey?u=94c6d169...               us22   \n",
      "8  https://us22.list-manage.com/survey?u=97e288ae...               us22   \n",
      "9  https://us22.list-manage.com/survey?u=97e288ae...               us22   \n",
      "\n",
      "         domain   tld  \n",
      "0    weeblysite   com  \n",
      "1         pages   dev  \n",
      "2        weebly   com  \n",
      "3        heevri  help  \n",
      "4   parcelevris   top  \n",
      "5  activehosted   com  \n",
      "6   list-manage   com  \n",
      "7   list-manage   com  \n",
      "8   list-manage   com  \n",
      "9   list-manage   com  \n",
      "💾  TLD and Subdomain Tokenized dataset saved as 'tld_subdomain_tokenized_urls_dataset.csv'\n"
     ]
    }
   ],
   "source": [
    "import tldextract\n",
    "import pandas as pd\n",
    "\n",
    "def tld_subdomain_tokenization():\n",
    "    print(\"═════════════════════════════════════════════════════════════════════\")\n",
    "    print(\"🔍  TLD and Subdomain Tokenization on URLs\")\n",
    "    print(\"═════════════════════════════════════════════════════════════════════\")\n",
    "    \n",
    "    # Load the combined dataset\n",
    "    try:\n",
    "        combined_df = pd.read_csv('combined_urls_dataset.csv', dtype={'url': str}, low_memory=False)\n",
    "        num_rows = len(combined_df)\n",
    "        print(f\"✅  Loaded {num_rows} URLs from 'combined_urls_dataset.csv'\")\n",
    "    except FileNotFoundError:\n",
    "        print(\"❌  Error: 'combined_urls_dataset.csv' not found.\")\n",
    "        return\n",
    "    \n",
    "    # TLD extraction with NaN handling\n",
    "    def extract_tld(url):\n",
    "        if isinstance(url, str):\n",
    "            extracted = tldextract.extract(url)\n",
    "            return pd.Series([extracted.subdomain, extracted.domain, extracted.suffix])\n",
    "        else:\n",
    "            return pd.Series([None, None, None])\n",
    "    \n",
    "    # Apply TLD and subdomain extraction to the 'url' column\n",
    "    combined_df[['subdomain', 'domain', 'tld']] = combined_df['url'].apply(extract_tld)\n",
    "    \n",
    "    # Print a sample of extracted data\n",
    "    print(\"🔍  Sample of Extracted TLD and Subdomain Data:\")\n",
    "    print(combined_df[['url', 'subdomain', 'domain', 'tld']].head(10))\n",
    "    \n",
    "    # Save the tokenized dataset\n",
    "    combined_df.to_csv('tld_subdomain_tokenized_urls_dataset.csv', index=False)\n",
    "    print(\"💾  TLD and Subdomain Tokenized dataset saved as 'tld_subdomain_tokenized_urls_dataset.csv'\")\n",
    "\n",
    "# Run the TLD and subdomain tokenization\n",
    "tld_subdomain_tokenization()\n"
   ]
  },
  {
   "cell_type": "markdown",
   "id": "d518378a",
   "metadata": {},
   "source": [
    "# Custom String Matching Tokenization"
   ]
  },
  {
   "cell_type": "markdown",
   "id": "6fbba7c3",
   "metadata": {},
   "source": [
    "#Code by Ryan"
   ]
  },
  {
   "cell_type": "code",
   "execution_count": 107,
   "id": "01ddd05e",
   "metadata": {},
   "outputs": [
    {
     "name": "stderr",
     "output_type": "stream",
     "text": [
      "2024-08-23 18:03:51,640 - INFO - Starting Custom String Matching Tokenization on URLs\n",
      "2024-08-23 18:03:51,883 - INFO - ✅  Loaded 83182 URLs from 'combined_urls_dataset.csv'\n",
      "2024-08-23 18:03:54,896 - INFO - 🔍  Sample of Detected Brands Data (Where Brands Were Found):\n",
      "2024-08-23 18:03:54,900 - INFO -                                                                                                  url    detected_brands\n",
      "https://www.dropbox.com/bl2/AAAyz8iMegZK1kgRdC8B9pQlHbTIco8UZDC32Iypf5g_9A/swright966@btinternet.com          [dropbox]\n",
      "                                       https://www.dropbox.com/l/AAA3ORqKB52Cm1ApqzxBhTvLzPJpGEy4SDI          [dropbox]\n",
      "                               https://www.dropbox.com/l/AADMvvP6HzkDd5QFQPKcs5vUwVE8SmTeKvQ/privacy          [dropbox]\n",
      "                   https://www.dropbox.com/scl/fi/2379srkv9cbtolge3uho1/Welcome-To-BT-Dropbox.papert [Dropbox, dropbox]\n",
      "                                   https://www.dropbox.com/l/scl/AABx2UFBc-YJgYpshjK5olTq06aRUGcV6JM          [dropbox]\n",
      "                https://www.dropbox.com/scl/fi/b0dki95onpiuka6lzjf9s/British-Telecommunication.paper          [dropbox]\n",
      "     https://www.dropbox.com/scl/fi/yyte9qvtqg2g7y7d662tn/Sign-in-to-update-your-account-below.paper          [dropbox]\n",
      "              https://www.dropbox.com/scl/fi/22xwthqugz27uq8evvhw6/UPDATE-BT-SECURITY-SERVICE.papert          [dropbox]\n",
      "                                          https://subscription-renewal-services.top/check/calcul.php               [hp]\n",
      "                                       https://www.dropbox.com/scl/fi/pmjotzbj8v7im4eayinx2/BT.paper          [dropbox]\n",
      "2024-08-23 18:03:54,995 - INFO - 💾  Detected Brands dataset saved as 'brands_detected_urls_dataset.csv'\n",
      "2024-08-23 18:03:55,404 - INFO - 💾  Full Custom String Matching Tokenized dataset saved as 'custom_string_matching_tokenized_urls_dataset.csv'\n"
     ]
    }
   ],
   "source": [
    "import pandas as pd\n",
    "import re\n",
    "from urllib.parse import urlparse, unquote\n",
    "import logging\n",
    "\n",
    "# Setup logging configuration\n",
    "logging.basicConfig(level=logging.INFO, format='%(asctime)s - %(levelname)s - %(message)s')\n",
    "\n",
    "def custom_string_matching_tokenization():\n",
    "    logging.info(\"Starting Custom String Matching Tokenization on URLs\")\n",
    "    \n",
    "    # Load the combined dataset\n",
    "    try:\n",
    "        combined_df = pd.read_csv('combined_urls_dataset.csv', dtype={'url': str}, low_memory=False)\n",
    "        num_rows = len(combined_df)\n",
    "        logging.info(f\"✅  Loaded {num_rows} URLs from 'combined_urls_dataset.csv'\")\n",
    "    except FileNotFoundError:\n",
    "        logging.error(\"❌  Error: 'combined_urls_dataset.csv' not found.\")\n",
    "        return\n",
    "    except Exception as e:\n",
    "        logging.error(f\"❌  Unexpected error: {e}\")\n",
    "        return\n",
    "\n",
    "    # Expanded list of known brand names commonly targeted by phishers\n",
    "    known_brands = [\n",
    "        'paypal', 'google', 'facebook', 'apple', 'amazon', 'microsoft',\n",
    "        'netflix', 'bankofamerica', 'linkedin', 'ebay', 'instagram', 'twitter', \n",
    "        'yahoo', 'dropbox', 'chase', 'wellsfargo', 'spotify', 'uber', 'airbnb',\n",
    "        'americanexpress', 'visa', 'mastercard', 'tiktok', 'whatsapp', 'snapchat',\n",
    "        'citibank', 'hsbc', 'barclays', 'alibaba', 'reddit', 'pinterest', 'adobe', \n",
    "        'icloud', 'office365', 'gmail', 'outlook', 'hotmail', 'samsung', 'sony',\n",
    "        'disney', 'hulu', 'zoom', 'github', 'at&t', 'verizon', 'xfinity', 'myspace',\n",
    "        'bitbucket', 'slack', 'zendesk', 't-mobile', 'dell', 'hp', 'lenovo', 'nike',\n",
    "        # ... (continue adding more brands as needed)\n",
    "    ]\n",
    "    \n",
    "    # Create a single regex pattern from the brand list for better performance\n",
    "    brand_pattern = re.compile('|'.join([re.escape(brand) for brand in known_brands]), re.IGNORECASE)\n",
    "    \n",
    "    # Function to normalize URLs (remove query parameters, fragments)\n",
    "    def normalize_url(url):\n",
    "        if isinstance(url, str):\n",
    "            try:\n",
    "                parsed_url = urlparse(url)\n",
    "                normalized_url = f\"{parsed_url.scheme}://{parsed_url.netloc}{parsed_url.path}\"\n",
    "                return normalized_url\n",
    "            except Exception as e:\n",
    "                logging.warning(f\"Error normalizing URL: {url}, Error: {e}\")\n",
    "                return url  # Return original if parsing fails\n",
    "        return None\n",
    "\n",
    "    # Function to decode URLs (handle encoded characters)\n",
    "    def decode_url(url):\n",
    "        if isinstance(url, str):\n",
    "            try:\n",
    "                return unquote(url)\n",
    "            except Exception as e:\n",
    "                logging.warning(f\"Error decoding URL: {url}, Error: {e}\")\n",
    "                return url  # Return original if decoding fails\n",
    "        return None\n",
    "\n",
    "    # Normalize and decode URLs before detection, skipping NaN values\n",
    "    combined_df['url'] = combined_df['url'].apply(lambda x: decode_url(normalize_url(x)))\n",
    "    \n",
    "    # Custom string matching using the compiled regex pattern\n",
    "    def brand_name_detector(url):\n",
    "        if isinstance(url, str):\n",
    "            matches = brand_pattern.findall(url)\n",
    "            return list(set(matches)) if matches else None  # Remove duplicates\n",
    "        return None\n",
    "    \n",
    "    # Apply brand name detection\n",
    "    combined_df['detected_brands'] = combined_df['url'].apply(brand_name_detector)\n",
    "    \n",
    "    # Filter for rows where brands were detected\n",
    "    brands_detected_df = combined_df[combined_df['detected_brands'].notnull()]\n",
    "    \n",
    "    # Print a sample of detected brands\n",
    "    logging.info(\"🔍  Sample of Detected Brands Data (Where Brands Were Found):\")\n",
    "    logging.info(brands_detected_df[['url', 'detected_brands']].head(10).to_string(index=False))\n",
    "    \n",
    "    # Save the filtered dataset where brands were detected\n",
    "    brands_detected_df.to_csv('brands_detected_urls_dataset.csv', index=False)\n",
    "    logging.info(\"💾  Detected Brands dataset saved as 'brands_detected_urls_dataset.csv'\")\n",
    "    \n",
    "    # Save the full tokenized dataset\n",
    "    combined_df.to_csv('custom_string_matching_tokenized_urls_dataset.csv', index=False)\n",
    "    logging.info(\"💾  Full Custom String Matching Tokenized dataset saved as 'custom_string_matching_tokenized_urls_dataset.csv'\")\n",
    "\n",
    "# Run the custom string matching tokenization\n",
    "custom_string_matching_tokenization()\n"
   ]
  },
  {
   "cell_type": "markdown",
   "id": "85447e25",
   "metadata": {},
   "source": [
    "# Comparison"
   ]
  },
  {
   "cell_type": "markdown",
   "id": "044be420",
   "metadata": {},
   "source": [
    "#Code by Ryan"
   ]
  },
  {
   "cell_type": "code",
   "execution_count": 108,
   "id": "443650a9",
   "metadata": {},
   "outputs": [
    {
     "name": "stdout",
     "output_type": "stream",
     "text": [
      "═════════════════════════════════════════════════════════════════════\n",
      "🔍  Fixing TLD & Subdomain Tokenization Calculation\n",
      "═════════════════════════════════════════════════════════════════════\n",
      "✅  Loaded 83186 URLs from 'debugged_tld_subdomain_tokenized_urls_dataset.csv'\n",
      "Total Tokens (TLD & Subdomain): 232680, Average Tokens per URL: 2.80\n",
      "💾  Updated TLD & Subdomain Tokenized dataset saved as 'updated_tld_subdomain_tokenized_urls_dataset.csv'\n"
     ]
    }
   ],
   "source": [
    "import pandas as pd\n",
    "\n",
    "def tld_token_volume_fix():\n",
    "    print(\"═════════════════════════════════════════════════════════════════════\")\n",
    "    print(\"🔍  Fixing TLD & Subdomain Tokenization Calculation\")\n",
    "    print(\"═════════════════════════════════════════════════════════════════════\")\n",
    "    \n",
    "    # Load the TLD & Subdomain tokenized dataset\n",
    "    try:\n",
    "        tld_df = pd.read_csv('debugged_tld_subdomain_tokenized_urls_dataset.csv', dtype={'url': str}, low_memory=False)\n",
    "        num_rows = len(tld_df)\n",
    "        print(f\"✅  Loaded {num_rows} URLs from 'debugged_tld_subdomain_tokenized_urls_dataset.csv'\")\n",
    "    except FileNotFoundError:\n",
    "        print(\"❌  Error: 'debugged_tld_subdomain_tokenized_urls_dataset.csv' not found.\")\n",
    "        return\n",
    "\n",
    "    # Calculate token counts for each URL\n",
    "    def count_tld_tokens(row):\n",
    "        tokens = 0\n",
    "        if pd.notna(row['subdomain']) and row['subdomain'].strip():\n",
    "            tokens += len(row['subdomain'].split('.'))  # Split subdomain by '.'\n",
    "        if pd.notna(row['domain']) and row['domain'].strip():\n",
    "            tokens += 1  # Domain is one token\n",
    "        if pd.notna(row['tld']) and row['tld'].strip():\n",
    "            tokens += 1  # TLD is one token\n",
    "        return tokens\n",
    "    \n",
    "    tld_df['token_count'] = tld_df.apply(count_tld_tokens, axis=1)\n",
    "    \n",
    "    # Calculate total and average tokens\n",
    "    total_tokens = tld_df['token_count'].sum()\n",
    "    avg_tokens_per_url = tld_df['token_count'].mean()\n",
    "    \n",
    "    print(f\"Total Tokens (TLD & Subdomain): {total_tokens}, Average Tokens per URL: {avg_tokens_per_url:.2f}\")\n",
    "    \n",
    "    # Save the updated dataset with token count\n",
    "    tld_df.to_csv('updated_tld_subdomain_tokenized_urls_dataset.csv', index=False)\n",
    "    print(\"💾  Updated TLD & Subdomain Tokenized dataset saved as 'updated_tld_subdomain_tokenized_urls_dataset.csv'\")\n",
    "\n",
    "# Run the fix for TLD & Subdomain tokenization\n",
    "tld_token_volume_fix()\n"
   ]
  },
  {
   "cell_type": "code",
   "execution_count": 109,
   "id": "64658662",
   "metadata": {},
   "outputs": [
    {
     "name": "stderr",
     "output_type": "stream",
     "text": [
      "/var/folders/b4/8n_bs6jd1bv4ww25k9s6r3xc0000gn/T/ipykernel_6037/809808484.py:6: DtypeWarning: Columns (9) have mixed types. Specify dtype option on import or set low_memory=False.\n",
      "  tld_df = pd.read_csv('updated_tld_subdomain_tokenized_urls_dataset.csv')  # Make sure this points to the updated dataset\n",
      "/var/folders/b4/8n_bs6jd1bv4ww25k9s6r3xc0000gn/T/ipykernel_6037/809808484.py:7: DtypeWarning: Columns (9) have mixed types. Specify dtype option on import or set low_memory=False.\n",
      "  custom_df = pd.read_csv('custom_string_matching_tokenized_urls_dataset.csv')\n",
      "/var/folders/b4/8n_bs6jd1bv4ww25k9s6r3xc0000gn/T/ipykernel_6037/809808484.py:21: DtypeWarning: Columns (9) have mixed types. Specify dtype option on import or set low_memory=False.\n",
      "  pd.read_csv('updated_tld_subdomain_tokenized_urls_dataset.csv')\n",
      "/var/folders/b4/8n_bs6jd1bv4ww25k9s6r3xc0000gn/T/ipykernel_6037/809808484.py:24: DtypeWarning: Columns (9) have mixed types. Specify dtype option on import or set low_memory=False.\n",
      "  pd.read_csv('custom_string_matching_tokenized_urls_dataset.csv')\n"
     ]
    },
    {
     "name": "stdout",
     "output_type": "stream",
     "text": [
      "Execution Time for Regex-Based Tokenization: 0.4337 seconds\n",
      "Execution Time for TLD & Subdomain Tokenization: 0.2846 seconds\n",
      "Execution Time for Custom String Matching Tokenization: 0.2886 seconds\n",
      "Total Tokens (Regex): 554009, Average Tokens per URL: 6.69\n",
      "Total Tokens (TLD & Subdomain): 224977, Average Tokens per URL: 2.70\n",
      "Total Tokens (Custom String Matching): 14823, Average Tokens per URL: 0.18\n"
     ]
    }
   ],
   "source": [
    "import time\n",
    "import pandas as pd\n",
    "\n",
    "# Load datasets for each tokenization method\n",
    "regex_df = pd.read_csv('debugged_regex_tokenized_urls_dataset.csv')\n",
    "tld_df = pd.read_csv('updated_tld_subdomain_tokenized_urls_dataset.csv')  # Make sure this points to the updated dataset\n",
    "custom_df = pd.read_csv('custom_string_matching_tokenized_urls_dataset.csv')\n",
    "\n",
    "# Step 1: Measure Execution Time for each method\n",
    "def measure_execution_time(func):\n",
    "    start_time = time.time()\n",
    "    func()\n",
    "    end_time = time.time()\n",
    "    return end_time - start_time\n",
    "\n",
    "# Placeholder functions for the tokenization methods (replace with actual implementations)\n",
    "def regex_tokenization():\n",
    "    pd.read_csv('debugged_regex_tokenized_urls_dataset.csv')\n",
    "\n",
    "def tld_tokenization():\n",
    "    pd.read_csv('updated_tld_subdomain_tokenized_urls_dataset.csv')\n",
    "\n",
    "def custom_string_matching():\n",
    "    pd.read_csv('custom_string_matching_tokenized_urls_dataset.csv')\n",
    "\n",
    "# Measure execution times\n",
    "regex_time = measure_execution_time(regex_tokenization)\n",
    "tld_time = measure_execution_time(tld_tokenization)\n",
    "custom_time = measure_execution_time(custom_string_matching)\n",
    "\n",
    "print(f\"Execution Time for Regex-Based Tokenization: {regex_time:.4f} seconds\")\n",
    "print(f\"Execution Time for TLD & Subdomain Tokenization: {tld_time:.4f} seconds\")\n",
    "print(f\"Execution Time for Custom String Matching Tokenization: {custom_time:.4f} seconds\")\n",
    "\n",
    "# Step 2: Tokenization Volume Comparison\n",
    "def calculate_token_volume(df, token_column):\n",
    "    if isinstance(token_column, list):  # Special handling for TLD & Subdomain\n",
    "        total_tokens = df[token_column].apply(lambda row: sum([len(str(x).split()) if pd.notna(x) else 0 for x in row]), axis=1).sum()\n",
    "        avg_tokens_per_url = df[token_column].apply(lambda row: sum([len(str(x).split()) if pd.notna(x) else 0 for x in row]), axis=1).mean()\n",
    "    else:  # For other tokenization methods\n",
    "        total_tokens = df[token_column].apply(lambda x: len(eval(x)) if isinstance(x, str) else 0).sum()\n",
    "        avg_tokens_per_url = df[token_column].apply(lambda x: len(eval(x)) if isinstance(x, str) else 0).mean()\n",
    "    return total_tokens, avg_tokens_per_url\n",
    "\n",
    "# Calculate token volumes for each method\n",
    "regex_total_tokens, regex_avg_tokens = calculate_token_volume(regex_df, 'regex_tokens')\n",
    "tld_total_tokens, tld_avg_tokens = calculate_token_volume(tld_df, ['subdomain', 'domain', 'tld'])\n",
    "custom_total_tokens, custom_avg_tokens = calculate_token_volume(custom_df, 'detected_brands')\n",
    "\n",
    "print(f\"Total Tokens (Regex): {regex_total_tokens}, Average Tokens per URL: {regex_avg_tokens:.2f}\")\n",
    "print(f\"Total Tokens (TLD & Subdomain): {tld_total_tokens}, Average Tokens per URL: {tld_avg_tokens:.2f}\")\n",
    "print(f\"Total Tokens (Custom String Matching): {custom_total_tokens}, Average Tokens per URL: {custom_avg_tokens:.2f}\")\n"
   ]
  },
  {
   "cell_type": "code",
   "execution_count": 110,
   "id": "6106b79b",
   "metadata": {},
   "outputs": [
    {
     "name": "stderr",
     "output_type": "stream",
     "text": [
      "/var/folders/b4/8n_bs6jd1bv4ww25k9s6r3xc0000gn/T/ipykernel_6037/4132423570.py:7: DtypeWarning: Columns (9) have mixed types. Specify dtype option on import or set low_memory=False.\n",
      "  tld_df = pd.read_csv('updated_tld_subdomain_tokenized_urls_dataset.csv')\n",
      "/var/folders/b4/8n_bs6jd1bv4ww25k9s6r3xc0000gn/T/ipykernel_6037/4132423570.py:8: DtypeWarning: Columns (9) have mixed types. Specify dtype option on import or set low_memory=False.\n",
      "  custom_df = pd.read_csv('custom_string_matching_tokenized_urls_dataset.csv')\n"
     ]
    },
    {
     "data": {
      "image/png": "[encoded data removed]",
      "text/plain": [
       "<Figure size 864x432 with 1 Axes>"
      ]
     },
     "metadata": {
      "needs_background": "light"
     },
     "output_type": "display_data"
    },
    {
     "data": {
      "image/png": "[encoded data removed]",
      "text/plain": [
       "<Figure size 576x432 with 1 Axes>"
      ]
     },
     "metadata": {
      "needs_background": "light"
     },
     "output_type": "display_data"
    },
    {
     "data": {
      "image/png": "[encoded data removed]",
      "text/plain": [
       "<Figure size 720x432 with 1 Axes>"
      ]
     },
     "metadata": {
      "needs_background": "light"
     },
     "output_type": "display_data"
    },
    {
     "data": {
      "image/png": "[encoded data removed]",
      "text/plain": [
       "<Figure size 432x432 with 1 Axes>"
      ]
     },
     "metadata": {},
     "output_type": "display_data"
    }
   ],
   "source": [
    "import matplotlib.pyplot as plt\n",
    "import seaborn as sns\n",
    "import pandas as pd\n",
    "\n",
    "# Load datasets\n",
    "regex_df = pd.read_csv('debugged_regex_tokenized_urls_dataset.csv')\n",
    "tld_df = pd.read_csv('updated_tld_subdomain_tokenized_urls_dataset.csv')\n",
    "custom_df = pd.read_csv('custom_string_matching_tokenized_urls_dataset.csv')\n",
    "\n",
    "# 1. Histogram - Token Volume Distribution\n",
    "plt.figure(figsize=(12, 6))\n",
    "sns.histplot(regex_df['regex_tokens'].apply(lambda x: len(eval(x)) if isinstance(x, str) else 0), color='blue', label='Regex', kde=False, bins=50)\n",
    "sns.histplot(tld_df[['subdomain', 'domain', 'tld']].apply(lambda x: len([val for val in x if pd.notna(val)]), axis=1), color='green', label='TLD & Subdomain', kde=False, bins=50)\n",
    "sns.histplot(custom_df['detected_brands'].apply(lambda x: len(eval(x)) if isinstance(x, str) else 0), color='red', label='Custom String Matching', kde=False, bins=50)\n",
    "plt.title(\"Token Volume Distribution per URL\")\n",
    "plt.xlabel(\"Number of Tokens\")\n",
    "plt.ylabel(\"Number of URLs\")\n",
    "plt.legend()\n",
    "plt.show()\n",
    "\n",
    "# 2. Bar Chart - Execution Time Comparison\n",
    "execution_times = [0.3620, 0.2686, 0.3538]  # Replace with actual values from your run\n",
    "methods = ['Regex-Based', 'TLD & Subdomain', 'Custom String Matching']\n",
    "\n",
    "plt.figure(figsize=(8, 6))\n",
    "sns.barplot(x=methods, y=execution_times, palette='Set2')\n",
    "plt.title(\"Execution Time Comparison\")\n",
    "plt.ylabel(\"Execution Time (seconds)\")\n",
    "plt.show()\n",
    "\n",
    "# 3. Box Plot - Token Count per URL Distribution\n",
    "plt.figure(figsize=(10, 6))\n",
    "sns.boxplot(data=[regex_df['regex_tokens'].apply(lambda x: len(eval(x)) if isinstance(x, str) else 0),\n",
    "                  tld_df[['subdomain', 'domain', 'tld']].apply(lambda x: len([val for val in x if pd.notna(val)]), axis=1),\n",
    "                  custom_df['detected_brands'].apply(lambda x: len(eval(x)) if isinstance(x, str) else 0)],\n",
    "            palette='Set3')\n",
    "plt.xticks([0, 1, 2], ['Regex-Based', 'TLD & Subdomain', 'Custom String Matching'])\n",
    "plt.title(\"Token Count per URL Distribution\")\n",
    "plt.ylabel(\"Token Count\")\n",
    "plt.show()\n",
    "\n",
    "# 4. Pie Chart - Proportion of URLs with Detected Brands (Custom String Matching)\n",
    "brands_detected = custom_df['detected_brands'].apply(lambda x: len(eval(x)) if isinstance(x, str) else 0).sum()\n",
    "total_urls = len(custom_df)\n",
    "no_brands_detected = total_urls - brands_detected\n",
    "\n",
    "plt.figure(figsize=(6, 6))\n",
    "plt.pie([brands_detected, no_brands_detected], labels=['Brands Detected', 'No Brands Detected'], autopct='%1.1f%%', colors=['#ff9999','#66b3ff'])\n",
    "plt.title(\"Proportion of URLs with Detected Brands (Custom String Matching)\")\n",
    "plt.show()\n"
   ]
  },
  {
   "cell_type": "code",
   "execution_count": null,
   "id": "1ef0c819",
   "metadata": {},
   "outputs": [],
   "source": []
  }
 ],
 "metadata": {
  "kernelspec": {
   "display_name": "Python 3 (ipykernel)",
   "language": "python",
   "name": "python3"
  },
  "language_info": {
   "codemirror_mode": {
    "name": "ipython",
    "version": 3
   },
   "file_extension": ".py",
   "mimetype": "text/x-python",
   "name": "python",
   "nbconvert_exporter": "python",
   "pygments_lexer": "ipython3",
   "version": "3.9.12"
  }
 },
 "nbformat": 4,
 "nbformat_minor": 5
}
