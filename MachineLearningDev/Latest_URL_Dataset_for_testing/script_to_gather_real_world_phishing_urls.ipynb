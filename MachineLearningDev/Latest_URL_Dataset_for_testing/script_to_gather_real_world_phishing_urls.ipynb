{
 "cells": [
  {
   "cell_type": "markdown",
   "id": "c8e346d7",
   "metadata": {},
   "source": [
    "# Harness Real-World Data: URL Database (Harmless & Harmful Combined)"
   ]
  },
  {
   "cell_type": "markdown",
   "id": "651208bf",
   "metadata": {},
   "source": [
    "## Want some URLs? Here, have a Million. 🎁"
   ]
  },
  {
   "cell_type": "markdown",
   "id": "923844ae",
   "metadata": {},
   "source": [
    "### Overview\n",
    "\n",
    "This notebook facilitates the creation of a large, labeled dataset of URLs by aggregating data from various reliable, open-source platforms. This dataset is invaluable for testing and training purposes in Phishing URL detections.\n",
    "\n",
    "Data Sources:\n",
    "- URLHaus: Known for its extensive collection of URLs associated with malware and other threats.\n",
    "- PhishStats: Specializes in tracking phishing URLs.\n",
    "- CommonCrawl: Provides a vast dataset of harmless URLs, ensuring balanced data for testing.\n",
    "\n",
    "Data Collection Date: 2024\n",
    "Note: If you are using this after 2024, please verify the links for updates as URLs and datasets may have changed."
   ]
  },
  {
   "cell_type": "markdown",
   "id": "a2066abf",
   "metadata": {},
   "source": [
    "### License and Usage\n",
    "\n",
    "This project is released under a permissive license. You are free to use, modify, and distribute this work as you see fit, without any restrictions. However, attribution is appreciated.\n",
    "\n",
    "Run this entire code to automatically generate a CSV file containing more than 1 million URLs. Each URL in the database is meticulously labeled with categories such as Harmless, Likely Malicious, Suspicious, Phishing, Definitely Phishing, Malware, and Unknown.\n",
    "\n",
    "Note on URL Quantity and Ratio:\n",
    "\n",
    "The number of URLs in the database can be adjusted according to your needs. The dataset of harmful URLs is limited due to the fixed output from reliable sources like URLHaus and PhishStats. However, for harmless URLs gathered from Common Crawl, you have the flexibility to collect more data by adjusting the number of WAT files to download and extract.\n",
    "\n",
    "- Balanced Ratio (1:1): If you want a balanced ratio of harmful to harmless URLs (1:1), setting the number of WAT files to 5 will yield approximately 300,000 URLs for each category. This provides a well-balanced dataset for testing scenarios where equal representation is important.\n",
    "\n",
    "- Optimal Large Dataset (2:1): For an optimal dataset with around 1 million URLs, setting the number of WAT files to 10 is recommended. This will result in a ratio of approximately 2:1, where the harmless URLs will be double the harmful ones. Specifically, you'll have around 325,788 harmful URLs and 787,152 harmless URLs, giving you a total of approximately 1,112,940 URLs.\n",
    "\n",
    "If you require an even larger dataset, you can further increase the number of WAT files, but be aware that this will significantly increase the data size, download time, and processing load on your machine. The 1 million URL dataset is considered optimal for most use cases.\n",
    "\n"
   ]
  },
  {
   "cell_type": "markdown",
   "id": "5e516292",
   "metadata": {},
   "source": [
    "## Import"
   ]
  },
  {
   "cell_type": "code",
   "execution_count": 1,
   "id": "eccc922a",
   "metadata": {},
   "outputs": [],
   "source": [
    "import requests\n",
    "import zipfile\n",
    "import os\n",
    "import pandas as pd\n",
    "import logging\n",
    "import json\n",
    "import gzip\n",
    "from IPython.display import display\n",
    "\n",
    "# Configure logging\n",
    "logging.basicConfig(level=logging.INFO, format='%(asctime)s - %(levelname)s - %(message)s')\n"
   ]
  },
  {
   "cell_type": "markdown",
   "id": "a0012b24",
   "metadata": {},
   "source": [
    "## Functions"
   ]
  },
  {
   "cell_type": "code",
   "execution_count": 2,
   "id": "2cd30340",
   "metadata": {},
   "outputs": [],
   "source": [
    "def download_and_extract_zip(url, zip_filename, extract_to=\".\"):\n",
    "    try:\n",
    "        # Download the ZIP file\n",
    "        response = requests.get(url, stream=True)\n",
    "        response.raise_for_status()  # Raise an error for bad status codes\n",
    "\n",
    "        # Save the ZIP file\n",
    "        with open(zip_filename, 'wb') as zip_file:\n",
    "            for chunk in response.iter_content(chunk_size=8192):\n",
    "                zip_file.write(chunk)\n",
    "        print(f\"ZIP file downloaded successfully as {zip_filename}\")\n",
    "        \n",
    "        # Extract the ZIP file\n",
    "        with zipfile.ZipFile(zip_filename, 'r') as zip_ref:\n",
    "            zip_ref.extractall(extract_to)\n",
    "        print(f\"ZIP file extracted successfully. Extracted files: {zip_ref.namelist()}\")\n",
    "\n",
    "        # Optionally, remove the ZIP file after extraction\n",
    "        os.remove(zip_filename)\n",
    "        print(f\"ZIP file {zip_filename} removed after extraction.\")\n",
    "\n",
    "    except requests.exceptions.RequestException as e:\n",
    "        print(f\"Failed to download the ZIP file. Error: {e}\")\n",
    "    except zipfile.BadZipFile as e:\n",
    "        print(f\"Failed to extract the ZIP file. It may be corrupted. Error: {e}\")\n",
    "    except Exception as e:\n",
    "        print(f\"An unexpected error occurred: {e}\")"
   ]
  },
  {
   "cell_type": "code",
   "execution_count": 3,
   "id": "561d91d7",
   "metadata": {},
   "outputs": [],
   "source": [
    "# Define a function to categorize the scores\n",
    "def label_phishing(score):\n",
    "    if 0 <= score < 2:\n",
    "        return 'Likely'\n",
    "    elif 2 <= score < 4:\n",
    "        return 'Suspicious'\n",
    "    elif 4 <= score < 6:\n",
    "        return 'Phishing'\n",
    "    elif 6 <= score <= 10:\n",
    "        return 'Definitely Phishing'\n",
    "    else:\n",
    "        return 'Unknown'"
   ]
  },
  {
   "cell_type": "code",
   "execution_count": 4,
   "id": "b3137976",
   "metadata": {},
   "outputs": [],
   "source": [
    "def download_file(url, local_filename):\n",
    "    \"\"\"Download a file from a URL and save it locally.\"\"\"\n",
    "    try:\n",
    "        logging.info(f\"Starting download from {url}\")\n",
    "        response = requests.get(url, stream=True)\n",
    "        response.raise_for_status()  # Raise an error for bad responses\n",
    "        with open(local_filename, 'wb') as f:\n",
    "            for chunk in response.iter_content(chunk_size=8192):\n",
    "                f.write(chunk)\n",
    "        logging.info(f\"File downloaded successfully as {local_filename}\")\n",
    "    except requests.exceptions.RequestException as e:\n",
    "        logging.error(f\"Error downloading the file: {e}\")\n",
    "        return False\n",
    "    return True"
   ]
  },
  {
   "cell_type": "code",
   "execution_count": 5,
   "id": "db7df682",
   "metadata": {},
   "outputs": [],
   "source": [
    "def extract_wat_paths(gz_filename):\n",
    "    \"\"\"Extract the WAT paths from a gzipped file and prompt the user for how many to display.\"\"\"\n",
    "    try:\n",
    "        logging.info(f\"Extracting WAT paths from {gz_filename}\")\n",
    "        with gzip.open(gz_filename, 'rt') as f:\n",
    "            wat_paths = f.read().splitlines()\n",
    "        \n",
    "        # Display the total number of WAT paths found\n",
    "        total_paths = len(wat_paths)\n",
    "        logging.info(f\"Total WAT paths found: {total_paths}\")\n",
    "        \n",
    "        # Prompt the user for how many WAT paths to display\n",
    "        display_count = int(input(\"Enter the number of WAT paths you would like to display -- Recommend 10 -- (Warning: Displaying too many may slow down your machine): \"))\n",
    "        \n",
    "        # Display the specified number of WAT paths\n",
    "        logging.info(f\"First {display_count} WAT paths: {wat_paths[:display_count]}\")\n",
    "        return wat_paths\n",
    "    except Exception as e:\n",
    "        logging.error(f\"Error extracting WAT paths: {e}\")\n",
    "        return []"
   ]
  },
  {
   "cell_type": "code",
   "execution_count": 6,
   "id": "62310d24",
   "metadata": {},
   "outputs": [],
   "source": [
    "def download_wat_files(wat_paths, download_count):\n",
    "    \"\"\"Download a specified number of WAT files from the given paths.\"\"\"\n",
    "    # Directory to store the downloaded WAT files\n",
    "    os.makedirs('wat_files', exist_ok=True)\n",
    "\n",
    "    try:\n",
    "        for i, wat_file_path in enumerate(wat_paths[:download_count]):\n",
    "            wat_file_url = f\"https://data.commoncrawl.org/{wat_file_path}\"\n",
    "            wat_file_name = os.path.join('wat_files', wat_file_path.split('/')[-1])\n",
    "            \n",
    "            # Download the WAT file\n",
    "            logging.info(f\"Downloading {wat_file_url}\")\n",
    "            response = requests.get(wat_file_url)\n",
    "            response.raise_for_status()  # Raise an error for bad responses\n",
    "\n",
    "            # Save the WAT file\n",
    "            with open(wat_file_name, 'wb') as f:\n",
    "                f.write(response.content)\n",
    "            \n",
    "            logging.info(f\"Downloaded {wat_file_name}\")\n",
    "\n",
    "        logging.info(f\"Successfully downloaded {download_count} WAT files.\")\n",
    "    \n",
    "    except requests.exceptions.RequestException as e:\n",
    "        logging.error(f\"Failed to download WAT files: {e}\")\n",
    "    except Exception as e:\n",
    "        logging.error(f\"An unexpected error occurred: {e}\")"
   ]
  },
  {
   "cell_type": "code",
   "execution_count": 7,
   "id": "d755b170",
   "metadata": {},
   "outputs": [],
   "source": [
    "# Function to extract URLs from a WAT file\n",
    "def extract_urls_from_wat(wat_file):\n",
    "    urls = []\n",
    "    malformed_lines_count = 0\n",
    "    with gzip.open(wat_file, 'rt', encoding='utf-8') as f:\n",
    "        for line in f:\n",
    "            try:\n",
    "                record = json.loads(line)\n",
    "                if 'Envelope' in record and 'WARC-Target-URI' in record['Envelope']['WARC-Header-Metadata']:\n",
    "                    urls.append(record['Envelope']['WARC-Header-Metadata']['WARC-Target-URI'])\n",
    "            except json.JSONDecodeError:\n",
    "                malformed_lines_count += 1\n",
    "                continue\n",
    "    return urls, malformed_lines_count"
   ]
  },
  {
   "cell_type": "markdown",
   "id": "fb6e0a54",
   "metadata": {},
   "source": [
    "# I. Retrieve Harmful URLs"
   ]
  },
  {
   "cell_type": "markdown",
   "id": "1f998b2e",
   "metadata": {},
   "source": [
    "## a. Data from URLHaus"
   ]
  },
  {
   "cell_type": "code",
   "execution_count": 8,
   "id": "1addb595",
   "metadata": {},
   "outputs": [
    {
     "name": "stdout",
     "output_type": "stream",
     "text": [
      "ZIP file downloaded successfully as urlhaus_full_dump.zip\n",
      "ZIP file extracted successfully. Extracted files: ['csv.txt']\n",
      "ZIP file urlhaus_full_dump.zip removed after extraction.\n"
     ]
    }
   ],
   "source": [
    "# URL of the full database dump ZIP file\n",
    "url = \"https://urlhaus.abuse.ch/downloads/csv/\"\n",
    "zip_filename = \"urlhaus_full_dump.zip\"\n",
    "csv_filename = \"urlhaus_full_dump.csv\"\n",
    "\n",
    "# Call the function to download and extract the ZIP file\n",
    "download_and_extract_zip(url, zip_filename)"
   ]
  },
  {
   "cell_type": "code",
   "execution_count": 9,
   "id": "8ea2c1c4",
   "metadata": {},
   "outputs": [
    {
     "name": "stdout",
     "output_type": "stream",
     "text": [
      "File saved as URLHaus_dump.csv\n",
      "Original text file csv.txt deleted successfully.\n"
     ]
    }
   ],
   "source": [
    "# Path to the unzipped text file\n",
    "txt_filename = 'csv.txt'\n",
    "\n",
    "# Check if the file exists before proceeding\n",
    "if os.path.exists(txt_filename):\n",
    "    try:\n",
    "        # Load the text file into a DataFrame\n",
    "        # Skip the initial lines that contain metadata information (usually around 6-7 lines)\n",
    "        df = pd.read_csv(txt_filename, skiprows=8, delimiter=',')\n",
    "\n",
    "        # Define the output CSV filename\n",
    "        csv_filename = 'URLHaus_dump.csv'\n",
    "\n",
    "        # Save the DataFrame to a CSV file\n",
    "        df.to_csv(csv_filename, index=False)\n",
    "\n",
    "        print(f\"File saved as {csv_filename}\")\n",
    "\n",
    "        # Delete the original text file after conversion\n",
    "        os.remove(txt_filename)\n",
    "        print(f\"Original text file {txt_filename} deleted successfully.\")\n",
    "        \n",
    "    except pd.errors.EmptyDataError:\n",
    "        print(f\"Error: {txt_filename} is empty or has no valid data.\")\n",
    "    except pd.errors.ParserError as e:\n",
    "        print(f\"Error parsing {txt_filename}: {e}\")\n",
    "    except Exception as e:\n",
    "        print(f\"An unexpected error occurred: {e}\")\n",
    "else:\n",
    "    print(f\"Error: The file {txt_filename} does not exist.\")\n"
   ]
  },
  {
   "cell_type": "code",
   "execution_count": 10,
   "id": "5d1024b7",
   "metadata": {},
   "outputs": [
    {
     "name": "stdout",
     "output_type": "stream",
     "text": [
      "✅ CSV file loaded successfully! Below are the first few rows of the data:\n"
     ]
    },
    {
     "data": {
      "text/html": [
       "<style type=\"text/css\">\n",
       "#T_77759 thead th {\n",
       "  background-color: #2c3e50;\n",
       "  color: white;\n",
       "  font-weight: bold;\n",
       "  border: 1px solid #ccc;\n",
       "}\n",
       "#T_77759 tbody td {\n",
       "  background-color: #ecf0f1;\n",
       "  color: #2c3e50;\n",
       "  border: 1px solid #ccc;\n",
       "}\n",
       "#T_77759_row0_col0, #T_77759_row0_col1, #T_77759_row0_col2, #T_77759_row0_col3, #T_77759_row0_col4, #T_77759_row0_col5, #T_77759_row0_col6, #T_77759_row0_col7, #T_77759_row0_col8, #T_77759_row1_col0, #T_77759_row1_col1, #T_77759_row1_col2, #T_77759_row1_col3, #T_77759_row1_col4, #T_77759_row1_col5, #T_77759_row1_col6, #T_77759_row1_col7, #T_77759_row1_col8, #T_77759_row2_col0, #T_77759_row2_col1, #T_77759_row2_col2, #T_77759_row2_col3, #T_77759_row2_col4, #T_77759_row2_col5, #T_77759_row2_col6, #T_77759_row2_col7, #T_77759_row2_col8, #T_77759_row3_col0, #T_77759_row3_col1, #T_77759_row3_col2, #T_77759_row3_col3, #T_77759_row3_col4, #T_77759_row3_col5, #T_77759_row3_col6, #T_77759_row3_col7, #T_77759_row3_col8, #T_77759_row4_col0, #T_77759_row4_col1, #T_77759_row4_col2, #T_77759_row4_col3, #T_77759_row4_col4, #T_77759_row4_col5, #T_77759_row4_col6, #T_77759_row4_col7, #T_77759_row4_col8, #T_77759_row5_col0, #T_77759_row5_col1, #T_77759_row5_col2, #T_77759_row5_col3, #T_77759_row5_col4, #T_77759_row5_col5, #T_77759_row5_col6, #T_77759_row5_col7, #T_77759_row5_col8, #T_77759_row6_col0, #T_77759_row6_col1, #T_77759_row6_col2, #T_77759_row6_col3, #T_77759_row6_col4, #T_77759_row6_col5, #T_77759_row6_col6, #T_77759_row6_col7, #T_77759_row6_col8, #T_77759_row7_col0, #T_77759_row7_col1, #T_77759_row7_col2, #T_77759_row7_col3, #T_77759_row7_col4, #T_77759_row7_col5, #T_77759_row7_col6, #T_77759_row7_col7, #T_77759_row7_col8, #T_77759_row8_col0, #T_77759_row8_col1, #T_77759_row8_col2, #T_77759_row8_col3, #T_77759_row8_col4, #T_77759_row8_col5, #T_77759_row8_col6, #T_77759_row8_col7, #T_77759_row8_col8, #T_77759_row9_col0, #T_77759_row9_col1, #T_77759_row9_col2, #T_77759_row9_col3, #T_77759_row9_col4, #T_77759_row9_col5, #T_77759_row9_col6, #T_77759_row9_col7, #T_77759_row9_col8 {\n",
       "  text-align: left;\n",
       "  padding: 10px;\n",
       "}\n",
       "</style>\n",
       "<table id=\"T_77759\">\n",
       "  <thead>\n",
       "    <tr>\n",
       "      <th class=\"blank level0\" >&nbsp;</th>\n",
       "      <th id=\"T_77759_level0_col0\" class=\"col_heading level0 col0\" ># id</th>\n",
       "      <th id=\"T_77759_level0_col1\" class=\"col_heading level0 col1\" >dateadded</th>\n",
       "      <th id=\"T_77759_level0_col2\" class=\"col_heading level0 col2\" >url</th>\n",
       "      <th id=\"T_77759_level0_col3\" class=\"col_heading level0 col3\" >url_status</th>\n",
       "      <th id=\"T_77759_level0_col4\" class=\"col_heading level0 col4\" >last_online</th>\n",
       "      <th id=\"T_77759_level0_col5\" class=\"col_heading level0 col5\" >threat</th>\n",
       "      <th id=\"T_77759_level0_col6\" class=\"col_heading level0 col6\" >tags</th>\n",
       "      <th id=\"T_77759_level0_col7\" class=\"col_heading level0 col7\" >urlhaus_link</th>\n",
       "      <th id=\"T_77759_level0_col8\" class=\"col_heading level0 col8\" >reporter</th>\n",
       "    </tr>\n",
       "  </thead>\n",
       "  <tbody>\n",
       "    <tr>\n",
       "      <th id=\"T_77759_level0_row0\" class=\"row_heading level0 row0\" >0</th>\n",
       "      <td id=\"T_77759_row0_col0\" class=\"data row0 col0\" >3154181</td>\n",
       "      <td id=\"T_77759_row0_col1\" class=\"data row0 col1\" >2024-09-03 06:22:39</td>\n",
       "      <td id=\"T_77759_row0_col2\" class=\"data row0 col2\" >http://80.76.176.23/kali-live.iso</td>\n",
       "      <td id=\"T_77759_row0_col3\" class=\"data row0 col3\" >online</td>\n",
       "      <td id=\"T_77759_row0_col4\" class=\"data row0 col4\" >2024-09-03 06:22:39</td>\n",
       "      <td id=\"T_77759_row0_col5\" class=\"data row0 col5\" >malware_download</td>\n",
       "      <td id=\"T_77759_row0_col6\" class=\"data row0 col6\" >None</td>\n",
       "      <td id=\"T_77759_row0_col7\" class=\"data row0 col7\" >https://urlhaus.abuse.ch/url/3154181/</td>\n",
       "      <td id=\"T_77759_row0_col8\" class=\"data row0 col8\" >lontze7</td>\n",
       "    </tr>\n",
       "    <tr>\n",
       "      <th id=\"T_77759_level0_row1\" class=\"row_heading level0 row1\" >1</th>\n",
       "      <td id=\"T_77759_row1_col0\" class=\"data row1 col0\" >3154180</td>\n",
       "      <td id=\"T_77759_row1_col1\" class=\"data row1 col1\" >2024-09-03 06:10:24</td>\n",
       "      <td id=\"T_77759_row1_col2\" class=\"data row1 col2\" >http://80.76.176.23/wlu.iso</td>\n",
       "      <td id=\"T_77759_row1_col3\" class=\"data row1 col3\" >online</td>\n",
       "      <td id=\"T_77759_row1_col4\" class=\"data row1 col4\" >2024-09-03 06:10:24</td>\n",
       "      <td id=\"T_77759_row1_col5\" class=\"data row1 col5\" >malware_download</td>\n",
       "      <td id=\"T_77759_row1_col6\" class=\"data row1 col6\" >None</td>\n",
       "      <td id=\"T_77759_row1_col7\" class=\"data row1 col7\" >https://urlhaus.abuse.ch/url/3154180/</td>\n",
       "      <td id=\"T_77759_row1_col8\" class=\"data row1 col8\" >lontze7</td>\n",
       "    </tr>\n",
       "    <tr>\n",
       "      <th id=\"T_77759_level0_row2\" class=\"row_heading level0 row2\" >2</th>\n",
       "      <td id=\"T_77759_row2_col0\" class=\"data row2 col0\" >3154179</td>\n",
       "      <td id=\"T_77759_row2_col1\" class=\"data row2 col1\" >2024-09-03 06:09:43</td>\n",
       "      <td id=\"T_77759_row2_col2\" class=\"data row2 col2\" >http://193.149.176.152:9999/update.dll</td>\n",
       "      <td id=\"T_77759_row2_col3\" class=\"data row2 col3\" >online</td>\n",
       "      <td id=\"T_77759_row2_col4\" class=\"data row2 col4\" >2024-09-03 06:09:43</td>\n",
       "      <td id=\"T_77759_row2_col5\" class=\"data row2 col5\" >malware_download</td>\n",
       "      <td id=\"T_77759_row2_col6\" class=\"data row2 col6\" >None</td>\n",
       "      <td id=\"T_77759_row2_col7\" class=\"data row2 col7\" >https://urlhaus.abuse.ch/url/3154179/</td>\n",
       "      <td id=\"T_77759_row2_col8\" class=\"data row2 col8\" >s1dhy</td>\n",
       "    </tr>\n",
       "    <tr>\n",
       "      <th id=\"T_77759_level0_row3\" class=\"row_heading level0 row3\" >3</th>\n",
       "      <td id=\"T_77759_row3_col0\" class=\"data row3 col0\" >3154178</td>\n",
       "      <td id=\"T_77759_row3_col1\" class=\"data row3 col1\" >2024-09-03 06:09:38</td>\n",
       "      <td id=\"T_77759_row3_col2\" class=\"data row3 col2\" >http://193.149.176.152:9999/upgrade.exe</td>\n",
       "      <td id=\"T_77759_row3_col3\" class=\"data row3 col3\" >offline</td>\n",
       "      <td id=\"T_77759_row3_col4\" class=\"data row3 col4\" >nan</td>\n",
       "      <td id=\"T_77759_row3_col5\" class=\"data row3 col5\" >malware_download</td>\n",
       "      <td id=\"T_77759_row3_col6\" class=\"data row3 col6\" >None</td>\n",
       "      <td id=\"T_77759_row3_col7\" class=\"data row3 col7\" >https://urlhaus.abuse.ch/url/3154178/</td>\n",
       "      <td id=\"T_77759_row3_col8\" class=\"data row3 col8\" >s1dhy</td>\n",
       "    </tr>\n",
       "    <tr>\n",
       "      <th id=\"T_77759_level0_row4\" class=\"row_heading level0 row4\" >4</th>\n",
       "      <td id=\"T_77759_row4_col0\" class=\"data row4 col0\" >3154177</td>\n",
       "      <td id=\"T_77759_row4_col1\" class=\"data row4 col1\" >2024-09-03 06:09:36</td>\n",
       "      <td id=\"T_77759_row4_col2\" class=\"data row4 col2\" >http://80.76.176.23/mimi.iso</td>\n",
       "      <td id=\"T_77759_row4_col3\" class=\"data row4 col3\" >online</td>\n",
       "      <td id=\"T_77759_row4_col4\" class=\"data row4 col4\" >2024-09-03 06:09:36</td>\n",
       "      <td id=\"T_77759_row4_col5\" class=\"data row4 col5\" >malware_download</td>\n",
       "      <td id=\"T_77759_row4_col6\" class=\"data row4 col6\" >None</td>\n",
       "      <td id=\"T_77759_row4_col7\" class=\"data row4 col7\" >https://urlhaus.abuse.ch/url/3154177/</td>\n",
       "      <td id=\"T_77759_row4_col8\" class=\"data row4 col8\" >lontze7</td>\n",
       "    </tr>\n",
       "    <tr>\n",
       "      <th id=\"T_77759_level0_row5\" class=\"row_heading level0 row5\" >5</th>\n",
       "      <td id=\"T_77759_row5_col0\" class=\"data row5 col0\" >3154176</td>\n",
       "      <td id=\"T_77759_row5_col1\" class=\"data row5 col1\" >2024-09-03 06:09:35</td>\n",
       "      <td id=\"T_77759_row5_col2\" class=\"data row5 col2\" >http://80.76.176.23/kswapd0</td>\n",
       "      <td id=\"T_77759_row5_col3\" class=\"data row5 col3\" >online</td>\n",
       "      <td id=\"T_77759_row5_col4\" class=\"data row5 col4\" >2024-09-03 06:09:35</td>\n",
       "      <td id=\"T_77759_row5_col5\" class=\"data row5 col5\" >malware_download</td>\n",
       "      <td id=\"T_77759_row5_col6\" class=\"data row5 col6\" >None</td>\n",
       "      <td id=\"T_77759_row5_col7\" class=\"data row5 col7\" >https://urlhaus.abuse.ch/url/3154176/</td>\n",
       "      <td id=\"T_77759_row5_col8\" class=\"data row5 col8\" >lontze7</td>\n",
       "    </tr>\n",
       "    <tr>\n",
       "      <th id=\"T_77759_level0_row6\" class=\"row_heading level0 row6\" >6</th>\n",
       "      <td id=\"T_77759_row6_col0\" class=\"data row6 col0\" >3154175</td>\n",
       "      <td id=\"T_77759_row6_col1\" class=\"data row6 col1\" >2024-09-03 06:09:33</td>\n",
       "      <td id=\"T_77759_row6_col2\" class=\"data row6 col2\" >http://156.248.75.245/xiezhenhaokan.apk</td>\n",
       "      <td id=\"T_77759_row6_col3\" class=\"data row6 col3\" >online</td>\n",
       "      <td id=\"T_77759_row6_col4\" class=\"data row6 col4\" >2024-09-03 06:09:33</td>\n",
       "      <td id=\"T_77759_row6_col5\" class=\"data row6 col5\" >malware_download</td>\n",
       "      <td id=\"T_77759_row6_col6\" class=\"data row6 col6\" >apk ,opendir,SpyNote</td>\n",
       "      <td id=\"T_77759_row6_col7\" class=\"data row6 col7\" >https://urlhaus.abuse.ch/url/3154175/</td>\n",
       "      <td id=\"T_77759_row6_col8\" class=\"data row6 col8\" >nci</td>\n",
       "    </tr>\n",
       "    <tr>\n",
       "      <th id=\"T_77759_level0_row7\" class=\"row_heading level0 row7\" >7</th>\n",
       "      <td id=\"T_77759_row7_col0\" class=\"data row7 col0\" >3154174</td>\n",
       "      <td id=\"T_77759_row7_col1\" class=\"data row7 col1\" >2024-09-03 06:09:32</td>\n",
       "      <td id=\"T_77759_row7_col2\" class=\"data row7 col2\" >http://156.248.77.92/%e5%af%ab%e7%9c%9f(1).apk</td>\n",
       "      <td id=\"T_77759_row7_col3\" class=\"data row7 col3\" >online</td>\n",
       "      <td id=\"T_77759_row7_col4\" class=\"data row7 col4\" >2024-09-03 06:09:32</td>\n",
       "      <td id=\"T_77759_row7_col5\" class=\"data row7 col5\" >malware_download</td>\n",
       "      <td id=\"T_77759_row7_col6\" class=\"data row7 col6\" >apk ,opendir,SpyNote</td>\n",
       "      <td id=\"T_77759_row7_col7\" class=\"data row7 col7\" >https://urlhaus.abuse.ch/url/3154174/</td>\n",
       "      <td id=\"T_77759_row7_col8\" class=\"data row7 col8\" >nci</td>\n",
       "    </tr>\n",
       "    <tr>\n",
       "      <th id=\"T_77759_level0_row8\" class=\"row_heading level0 row8\" >8</th>\n",
       "      <td id=\"T_77759_row8_col0\" class=\"data row8 col0\" >3154171</td>\n",
       "      <td id=\"T_77759_row8_col1\" class=\"data row8 col1\" >2024-09-03 06:09:28</td>\n",
       "      <td id=\"T_77759_row8_col2\" class=\"data row8 col2\" >https://156.248.75.237/ready3.apk</td>\n",
       "      <td id=\"T_77759_row8_col3\" class=\"data row8 col3\" >online</td>\n",
       "      <td id=\"T_77759_row8_col4\" class=\"data row8 col4\" >2024-09-03 06:09:28</td>\n",
       "      <td id=\"T_77759_row8_col5\" class=\"data row8 col5\" >malware_download</td>\n",
       "      <td id=\"T_77759_row8_col6\" class=\"data row8 col6\" >apk ,opendir,SpyNote</td>\n",
       "      <td id=\"T_77759_row8_col7\" class=\"data row8 col7\" >https://urlhaus.abuse.ch/url/3154171/</td>\n",
       "      <td id=\"T_77759_row8_col8\" class=\"data row8 col8\" >nci</td>\n",
       "    </tr>\n",
       "    <tr>\n",
       "      <th id=\"T_77759_level0_row9\" class=\"row_heading level0 row9\" >9</th>\n",
       "      <td id=\"T_77759_row9_col0\" class=\"data row9 col0\" >3154172</td>\n",
       "      <td id=\"T_77759_row9_col1\" class=\"data row9 col1\" >2024-09-03 06:09:28</td>\n",
       "      <td id=\"T_77759_row9_col2\" class=\"data row9 col2\" >http://156.248.77.50/%e5%af%ab%e7%9c%9f1111.apk</td>\n",
       "      <td id=\"T_77759_row9_col3\" class=\"data row9 col3\" >online</td>\n",
       "      <td id=\"T_77759_row9_col4\" class=\"data row9 col4\" >2024-09-03 06:09:28</td>\n",
       "      <td id=\"T_77759_row9_col5\" class=\"data row9 col5\" >malware_download</td>\n",
       "      <td id=\"T_77759_row9_col6\" class=\"data row9 col6\" >apk ,opendir,SpyNote</td>\n",
       "      <td id=\"T_77759_row9_col7\" class=\"data row9 col7\" >https://urlhaus.abuse.ch/url/3154172/</td>\n",
       "      <td id=\"T_77759_row9_col8\" class=\"data row9 col8\" >nci</td>\n",
       "    </tr>\n",
       "  </tbody>\n",
       "</table>\n"
      ],
      "text/plain": [
       "<pandas.io.formats.style.Styler at 0x7fe6e002b100>"
      ]
     },
     "execution_count": 10,
     "metadata": {},
     "output_type": "execute_result"
    }
   ],
   "source": [
    "# Load the CSV file into a DataFrame\n",
    "df = pd.read_csv('URLHaus_dump.csv')\n",
    "\n",
    "# Display the first few rows to confirm the data is loaded correctly\n",
    "print(\"✅ CSV file loaded successfully! Below are the first few rows of the data:\")\n",
    "\n",
    "# Styled display of the first few rows of the DataFrame\n",
    "styled_df = df.head(10).style.set_table_styles(\n",
    "    [{'selector': 'thead th', 'props': [('background-color', '#2c3e50'), \n",
    "                                        ('color', 'white'), \n",
    "                                        ('font-weight', 'bold'), \n",
    "                                        ('border', '1px solid #ccc')]},\n",
    "     {'selector': 'tbody td', 'props': [('background-color', '#ecf0f1'),\n",
    "                                        ('color', '#2c3e50'),\n",
    "                                        ('border', '1px solid #ccc')]}]\n",
    ").set_properties(\n",
    "    **{'text-align': 'left', 'padding': '10px'}\n",
    ")\n",
    "\n",
    "styled_df"
   ]
  },
  {
   "cell_type": "code",
   "execution_count": 11,
   "id": "56310163",
   "metadata": {},
   "outputs": [
    {
     "data": {
      "text/html": [
       "<style type=\"text/css\">\n",
       "#T_5f7c7 thead th {\n",
       "  background-color: #2c3e50;\n",
       "  color: white;\n",
       "  font-weight: bold;\n",
       "}\n",
       "#T_5f7c7 tbody td {\n",
       "  background-color: #ecf0f1;\n",
       "  color: #2c3e50;\n",
       "  border: 1px solid #ccc;\n",
       "  padding: 10px;\n",
       "  text-align: left;\n",
       "}\n",
       "</style>\n",
       "<table id=\"T_5f7c7\">\n",
       "  <thead>\n",
       "    <tr>\n",
       "      <th class=\"blank level0\" >&nbsp;</th>\n",
       "      <th id=\"T_5f7c7_level0_col0\" class=\"col_heading level0 col0\" >Date_Added</th>\n",
       "      <th id=\"T_5f7c7_level0_col1\" class=\"col_heading level0 col1\" >URL</th>\n",
       "      <th id=\"T_5f7c7_level0_col2\" class=\"col_heading level0 col2\" >URL_Status</th>\n",
       "      <th id=\"T_5f7c7_level0_col3\" class=\"col_heading level0 col3\" >Label</th>\n",
       "    </tr>\n",
       "  </thead>\n",
       "  <tbody>\n",
       "    <tr>\n",
       "      <th id=\"T_5f7c7_level0_row0\" class=\"row_heading level0 row0\" >0</th>\n",
       "      <td id=\"T_5f7c7_row0_col0\" class=\"data row0 col0\" >2024-09-03 06:22:39</td>\n",
       "      <td id=\"T_5f7c7_row0_col1\" class=\"data row0 col1\" >http://80.76.176.23/kali-live.iso</td>\n",
       "      <td id=\"T_5f7c7_row0_col2\" class=\"data row0 col2\" >online</td>\n",
       "      <td id=\"T_5f7c7_row0_col3\" class=\"data row0 col3\" >Malware</td>\n",
       "    </tr>\n",
       "    <tr>\n",
       "      <th id=\"T_5f7c7_level0_row1\" class=\"row_heading level0 row1\" >1</th>\n",
       "      <td id=\"T_5f7c7_row1_col0\" class=\"data row1 col0\" >2024-09-03 06:10:24</td>\n",
       "      <td id=\"T_5f7c7_row1_col1\" class=\"data row1 col1\" >http://80.76.176.23/wlu.iso</td>\n",
       "      <td id=\"T_5f7c7_row1_col2\" class=\"data row1 col2\" >online</td>\n",
       "      <td id=\"T_5f7c7_row1_col3\" class=\"data row1 col3\" >Malware</td>\n",
       "    </tr>\n",
       "    <tr>\n",
       "      <th id=\"T_5f7c7_level0_row2\" class=\"row_heading level0 row2\" >2</th>\n",
       "      <td id=\"T_5f7c7_row2_col0\" class=\"data row2 col0\" >2024-09-03 06:09:43</td>\n",
       "      <td id=\"T_5f7c7_row2_col1\" class=\"data row2 col1\" >http://193.149.176.152:9999/update.dll</td>\n",
       "      <td id=\"T_5f7c7_row2_col2\" class=\"data row2 col2\" >online</td>\n",
       "      <td id=\"T_5f7c7_row2_col3\" class=\"data row2 col3\" >Malware</td>\n",
       "    </tr>\n",
       "    <tr>\n",
       "      <th id=\"T_5f7c7_level0_row3\" class=\"row_heading level0 row3\" >3</th>\n",
       "      <td id=\"T_5f7c7_row3_col0\" class=\"data row3 col0\" >2024-09-03 06:09:38</td>\n",
       "      <td id=\"T_5f7c7_row3_col1\" class=\"data row3 col1\" >http://193.149.176.152:9999/upgrade.exe</td>\n",
       "      <td id=\"T_5f7c7_row3_col2\" class=\"data row3 col2\" >offline</td>\n",
       "      <td id=\"T_5f7c7_row3_col3\" class=\"data row3 col3\" >Malware</td>\n",
       "    </tr>\n",
       "    <tr>\n",
       "      <th id=\"T_5f7c7_level0_row4\" class=\"row_heading level0 row4\" >4</th>\n",
       "      <td id=\"T_5f7c7_row4_col0\" class=\"data row4 col0\" >2024-09-03 06:09:36</td>\n",
       "      <td id=\"T_5f7c7_row4_col1\" class=\"data row4 col1\" >http://80.76.176.23/mimi.iso</td>\n",
       "      <td id=\"T_5f7c7_row4_col2\" class=\"data row4 col2\" >online</td>\n",
       "      <td id=\"T_5f7c7_row4_col3\" class=\"data row4 col3\" >Malware</td>\n",
       "    </tr>\n",
       "  </tbody>\n",
       "</table>\n"
      ],
      "text/plain": [
       "<pandas.io.formats.style.Styler at 0x7fe734f82580>"
      ]
     },
     "execution_count": 11,
     "metadata": {},
     "output_type": "execute_result"
    }
   ],
   "source": [
    "# Drop unnecessary columns\n",
    "columns_to_drop = ['# id', 'reporter', 'threat', 'tags', 'urlhaus_link', 'last_online']\n",
    "df_cleaned = df.drop(columns=columns_to_drop)\n",
    "\n",
    "# Rename the columns\n",
    "df_cleaned.columns = ['Date_Added', 'URL', 'URL_Status']\n",
    "\n",
    "# Add a column to label these URLs as harmful\n",
    "df_cleaned['Label'] = 'Malware'\n",
    "\n",
    "# Display the first few rows with the styled table\n",
    "styled_df_cleaned = df_cleaned.head().style.set_table_styles(\n",
    "    [{'selector': 'thead th', 'props': [('background-color', '#2c3e50'), ('color', 'white'), ('font-weight', 'bold')]},\n",
    "     {'selector': 'tbody td', 'props': [('background-color', '#ecf0f1'), ('color', '#2c3e50'), ('border', '1px solid #ccc'), ('padding', '10px'), ('text-align', 'left')]}]\n",
    ")\n",
    "\n",
    "styled_df_cleaned\n"
   ]
  },
  {
   "cell_type": "code",
   "execution_count": 12,
   "id": "732060e2",
   "metadata": {},
   "outputs": [
    {
     "name": "stdout",
     "output_type": "stream",
     "text": [
      "Data size from URLHaus: 278626\n"
     ]
    }
   ],
   "source": [
    "# Check the size of the dataset\n",
    "print(f\"Data size from URLHaus: {df_cleaned.shape[0]}\")"
   ]
  },
  {
   "cell_type": "code",
   "execution_count": 13,
   "id": "809e7759",
   "metadata": {},
   "outputs": [
    {
     "name": "stdout",
     "output_type": "stream",
     "text": [
      "Cleaned data saved as URLHAUS_Cleaned_Data.csv\n",
      "Previous file URLHaus_dump.csv has been removed.\n"
     ]
    }
   ],
   "source": [
    "# Save the cleaned data to a new CSV file\n",
    "cleaned_csv_filename = 'URLHAUS_Cleaned_Data.csv'\n",
    "df_cleaned.to_csv(cleaned_csv_filename, index=False)\n",
    "\n",
    "print(f\"Cleaned data saved as {cleaned_csv_filename}\")\n",
    "\n",
    "# Remove the previous CSV file\n",
    "# If you want to keep the original CSV dump, comment out the code below.\n",
    "previous_csv_filename = 'URLHaus_dump.csv'\n",
    "if os.path.exists(previous_csv_filename):\n",
    "    os.remove(previous_csv_filename)\n",
    "    print(f\"Previous file {previous_csv_filename} has been removed.\")\n",
    "else:\n",
    "    print(f\"No file named {previous_csv_filename} found.\")\n"
   ]
  },
  {
   "cell_type": "markdown",
   "id": "7f5c1475",
   "metadata": {},
   "source": [
    "# b. Data from Phishstats"
   ]
  },
  {
   "cell_type": "code",
   "execution_count": 19,
   "id": "fca782ae",
   "metadata": {},
   "outputs": [
    {
     "name": "stdout",
     "output_type": "stream",
     "text": [
      "PhishStats data downloaded successfully as phishstats_data.csv\n"
     ]
    }
   ],
   "source": [
    "# URL of the PhishStats CSV file\n",
    "url = 'https://phishstats.info/phish_score.csv'\n",
    "\n",
    "# Download the CSV file\n",
    "response = requests.get(url)\n",
    "csv_filename = 'phishstats_data.csv'\n",
    "\n",
    "# Save the CSV file\n",
    "with open(csv_filename, 'wb') as file:\n",
    "    file.write(response.content)\n",
    "\n",
    "print(f\"PhishStats data downloaded successfully as {csv_filename}\")\n"
   ]
  },
  {
   "cell_type": "code",
   "execution_count": 20,
   "id": "e394579f",
   "metadata": {},
   "outputs": [
    {
     "data": {
      "text/html": [
       "<style type=\"text/css\">\n",
       "#T_19121 thead th {\n",
       "  background-color: #2c3e50;\n",
       "  color: white;\n",
       "  font-weight: bold;\n",
       "}\n",
       "#T_19121 tbody tr:nth-child(odd) {\n",
       "  background-color: #ecf0f1;\n",
       "}\n",
       "#T_19121 tbody tr:nth-child(even) {\n",
       "  background-color: white;\n",
       "}\n",
       "#T_19121 td {\n",
       "  border: 1px solid #ccc;\n",
       "  padding: 10px;\n",
       "}\n",
       "#T_19121 thead th {\n",
       "  text-align: left;\n",
       "}\n",
       "#T_19121  td {\n",
       "  text-align: left;\n",
       "}\n",
       "</style>\n",
       "<table id=\"T_19121\">\n",
       "  <thead>\n",
       "    <tr>\n",
       "      <th class=\"blank level0\" >&nbsp;</th>\n",
       "      <th id=\"T_19121_level0_col0\" class=\"col_heading level0 col0\" >0</th>\n",
       "      <th id=\"T_19121_level0_col1\" class=\"col_heading level0 col1\" >1</th>\n",
       "      <th id=\"T_19121_level0_col2\" class=\"col_heading level0 col2\" >2</th>\n",
       "      <th id=\"T_19121_level0_col3\" class=\"col_heading level0 col3\" >3</th>\n",
       "    </tr>\n",
       "  </thead>\n",
       "  <tbody>\n",
       "    <tr>\n",
       "      <th id=\"T_19121_level0_row0\" class=\"row_heading level0 row0\" >0</th>\n",
       "      <td id=\"T_19121_row0_col0\" class=\"data row0 col0\" >2024-09-03 02:35:29</td>\n",
       "      <td id=\"T_19121_row0_col1\" class=\"data row0 col1\" >1.900000</td>\n",
       "      <td id=\"T_19121_row0_col2\" class=\"data row0 col2\" >https://metamalklogin.gitbook.io/us</td>\n",
       "      <td id=\"T_19121_row0_col3\" class=\"data row0 col3\" >2606:4700:4400::ac40:93d1</td>\n",
       "    </tr>\n",
       "    <tr>\n",
       "      <th id=\"T_19121_level0_row1\" class=\"row_heading level0 row1\" >1</th>\n",
       "      <td id=\"T_19121_row1_col0\" class=\"data row1 col0\" >2024-09-03 02:32:54</td>\n",
       "      <td id=\"T_19121_row1_col1\" class=\"data row1 col1\" >1.900000</td>\n",
       "      <td id=\"T_19121_row1_col2\" class=\"data row1 col2\" >https://matixmusk-logzn.gitbook.io/us</td>\n",
       "      <td id=\"T_19121_row1_col3\" class=\"data row1 col3\" >172.64.147.209</td>\n",
       "    </tr>\n",
       "    <tr>\n",
       "      <th id=\"T_19121_level0_row2\" class=\"row_heading level0 row2\" >2</th>\n",
       "      <td id=\"T_19121_row2_col0\" class=\"data row2 col0\" >2024-09-03 02:30:59</td>\n",
       "      <td id=\"T_19121_row2_col1\" class=\"data row2 col1\" >1.400000</td>\n",
       "      <td id=\"T_19121_row2_col2\" class=\"data row2 col2\" >https://mastmskk-loggim.gitbook.io/us</td>\n",
       "      <td id=\"T_19121_row2_col3\" class=\"data row2 col3\" >172.64.147.209</td>\n",
       "    </tr>\n",
       "    <tr>\n",
       "      <th id=\"T_19121_level0_row3\" class=\"row_heading level0 row3\" >3</th>\n",
       "      <td id=\"T_19121_row3_col0\" class=\"data row3 col0\" >2024-09-03 02:30:39</td>\n",
       "      <td id=\"T_19121_row3_col1\" class=\"data row3 col1\" >2.400000</td>\n",
       "      <td id=\"T_19121_row3_col2\" class=\"data row3 col2\" >https://maitemasklogin.gitbook.io/us</td>\n",
       "      <td id=\"T_19121_row3_col3\" class=\"data row3 col3\" >172.64.147.209</td>\n",
       "    </tr>\n",
       "    <tr>\n",
       "      <th id=\"T_19121_level0_row4\" class=\"row_heading level0 row4\" >4</th>\n",
       "      <td id=\"T_19121_row4_col0\" class=\"data row4 col0\" >2024-09-03 02:25:36</td>\n",
       "      <td id=\"T_19121_row4_col1\" class=\"data row4 col1\" >5.800000</td>\n",
       "      <td id=\"T_19121_row4_col2\" class=\"data row4 col2\" >https://google.com/amp/s/pub-513415bbbd6d43e39e7853abbe68ca5a.r2.dev/jj.html#info@mup.cz</td>\n",
       "      <td id=\"T_19121_row4_col3\" class=\"data row4 col3\" >2607:f8b0:4006:816::200e</td>\n",
       "    </tr>\n",
       "  </tbody>\n",
       "</table>\n"
      ],
      "text/plain": [
       "<pandas.io.formats.style.Styler at 0x7fe733262ee0>"
      ]
     },
     "execution_count": 20,
     "metadata": {},
     "output_type": "execute_result"
    }
   ],
   "source": [
    "# Define the file path\n",
    "csv_filename = 'phishstats_data.csv' \n",
    "\n",
    "# Skip the first few rows of metadata and load the CSV\n",
    "df_phishstats = pd.read_csv(csv_filename, skiprows=9, header=None)\n",
    "\n",
    "# Display the first few rows to check\n",
    "styled_df = df_phishstats.head().style.set_table_styles([\n",
    "    {'selector': 'thead th', 'props': [('background-color', '#2c3e50'), ('color', 'white'), ('font-weight', 'bold')]},\n",
    "    {'selector': 'tbody tr:nth-child(odd)', 'props': [('background-color', '#ecf0f1')]},\n",
    "    {'selector': 'tbody tr:nth-child(even)', 'props': [('background-color', 'white')]},\n",
    "    {'selector': 'td', 'props': [('border', '1px solid #ccc'), ('padding', '10px')]},\n",
    "    {'selector': 'thead th, td', 'props': [('text-align', 'left')]}\n",
    "])\n",
    "\n",
    "styled_df\n"
   ]
  },
  {
   "cell_type": "code",
   "execution_count": 21,
   "id": "ca0b02bd",
   "metadata": {},
   "outputs": [
    {
     "data": {
      "text/html": [
       "<style type=\"text/css\">\n",
       "#T_a801b thead th {\n",
       "  background-color: #2c3e50;\n",
       "  color: white;\n",
       "  font-weight: bold;\n",
       "}\n",
       "#T_a801b tbody tr:nth-child(odd) {\n",
       "  background-color: #ecf0f1;\n",
       "}\n",
       "#T_a801b tbody tr:nth-child(even) {\n",
       "  background-color: white;\n",
       "}\n",
       "#T_a801b td {\n",
       "  border: 1px solid #ccc;\n",
       "  padding: 10px;\n",
       "}\n",
       "#T_a801b thead th {\n",
       "  text-align: left;\n",
       "}\n",
       "#T_a801b  td {\n",
       "  text-align: left;\n",
       "}\n",
       "</style>\n",
       "<table id=\"T_a801b\">\n",
       "  <thead>\n",
       "    <tr>\n",
       "      <th class=\"blank level0\" >&nbsp;</th>\n",
       "      <th id=\"T_a801b_level0_col0\" class=\"col_heading level0 col0\" >Date_Added</th>\n",
       "      <th id=\"T_a801b_level0_col1\" class=\"col_heading level0 col1\" >Score</th>\n",
       "      <th id=\"T_a801b_level0_col2\" class=\"col_heading level0 col2\" >URL</th>\n",
       "      <th id=\"T_a801b_level0_col3\" class=\"col_heading level0 col3\" >IP</th>\n",
       "    </tr>\n",
       "  </thead>\n",
       "  <tbody>\n",
       "    <tr>\n",
       "      <th id=\"T_a801b_level0_row0\" class=\"row_heading level0 row0\" >0</th>\n",
       "      <td id=\"T_a801b_row0_col0\" class=\"data row0 col0\" >2024-09-03 02:35:29</td>\n",
       "      <td id=\"T_a801b_row0_col1\" class=\"data row0 col1\" >1.900000</td>\n",
       "      <td id=\"T_a801b_row0_col2\" class=\"data row0 col2\" >https://metamalklogin.gitbook.io/us</td>\n",
       "      <td id=\"T_a801b_row0_col3\" class=\"data row0 col3\" >2606:4700:4400::ac40:93d1</td>\n",
       "    </tr>\n",
       "    <tr>\n",
       "      <th id=\"T_a801b_level0_row1\" class=\"row_heading level0 row1\" >1</th>\n",
       "      <td id=\"T_a801b_row1_col0\" class=\"data row1 col0\" >2024-09-03 02:32:54</td>\n",
       "      <td id=\"T_a801b_row1_col1\" class=\"data row1 col1\" >1.900000</td>\n",
       "      <td id=\"T_a801b_row1_col2\" class=\"data row1 col2\" >https://matixmusk-logzn.gitbook.io/us</td>\n",
       "      <td id=\"T_a801b_row1_col3\" class=\"data row1 col3\" >172.64.147.209</td>\n",
       "    </tr>\n",
       "    <tr>\n",
       "      <th id=\"T_a801b_level0_row2\" class=\"row_heading level0 row2\" >2</th>\n",
       "      <td id=\"T_a801b_row2_col0\" class=\"data row2 col0\" >2024-09-03 02:30:59</td>\n",
       "      <td id=\"T_a801b_row2_col1\" class=\"data row2 col1\" >1.400000</td>\n",
       "      <td id=\"T_a801b_row2_col2\" class=\"data row2 col2\" >https://mastmskk-loggim.gitbook.io/us</td>\n",
       "      <td id=\"T_a801b_row2_col3\" class=\"data row2 col3\" >172.64.147.209</td>\n",
       "    </tr>\n",
       "    <tr>\n",
       "      <th id=\"T_a801b_level0_row3\" class=\"row_heading level0 row3\" >3</th>\n",
       "      <td id=\"T_a801b_row3_col0\" class=\"data row3 col0\" >2024-09-03 02:30:39</td>\n",
       "      <td id=\"T_a801b_row3_col1\" class=\"data row3 col1\" >2.400000</td>\n",
       "      <td id=\"T_a801b_row3_col2\" class=\"data row3 col2\" >https://maitemasklogin.gitbook.io/us</td>\n",
       "      <td id=\"T_a801b_row3_col3\" class=\"data row3 col3\" >172.64.147.209</td>\n",
       "    </tr>\n",
       "    <tr>\n",
       "      <th id=\"T_a801b_level0_row4\" class=\"row_heading level0 row4\" >4</th>\n",
       "      <td id=\"T_a801b_row4_col0\" class=\"data row4 col0\" >2024-09-03 02:25:36</td>\n",
       "      <td id=\"T_a801b_row4_col1\" class=\"data row4 col1\" >5.800000</td>\n",
       "      <td id=\"T_a801b_row4_col2\" class=\"data row4 col2\" >https://google.com/amp/s/pub-513415bbbd6d43e39e7853abbe68ca5a.r2.dev/jj.html#info@mup.cz</td>\n",
       "      <td id=\"T_a801b_row4_col3\" class=\"data row4 col3\" >2607:f8b0:4006:816::200e</td>\n",
       "    </tr>\n",
       "  </tbody>\n",
       "</table>\n"
      ],
      "text/plain": [
       "<pandas.io.formats.style.Styler at 0x7fe73245eb80>"
      ]
     },
     "execution_count": 21,
     "metadata": {},
     "output_type": "execute_result"
    }
   ],
   "source": [
    "import pandas as pd\n",
    "\n",
    "# Define the file path\n",
    "csv_filename = 'phishstats_data.csv'  # Replace with your actual file path\n",
    "\n",
    "# Skip the first few rows of metadata and load the CSV\n",
    "df_phishstats = pd.read_csv(csv_filename, skiprows=9, header=None)\n",
    "\n",
    "# Rename the columns\n",
    "df_phishstats.columns = ['Date_Added', 'Score', 'URL', 'IP']\n",
    "\n",
    "# Drop rows with any missing values\n",
    "df_phishstats.dropna(inplace=True)\n",
    "\n",
    "\n",
    "# Display the DataFrame to verify\n",
    "styled_df = df_phishstats.head().style.set_table_styles([\n",
    "    {'selector': 'thead th', 'props': [('background-color', '#2c3e50'), ('color', 'white'), ('font-weight', 'bold')]},\n",
    "    {'selector': 'tbody tr:nth-child(odd)', 'props': [('background-color', '#ecf0f1')]},\n",
    "    {'selector': 'tbody tr:nth-child(even)', 'props': [('background-color', 'white')]},\n",
    "    {'selector': 'td', 'props': [('border', '1px solid #ccc'), ('padding', '10px')]},\n",
    "    {'selector': 'thead th, td', 'props': [('text-align', 'left')]}\n",
    "])\n",
    "\n",
    "styled_df\n"
   ]
  },
  {
   "cell_type": "code",
   "execution_count": 22,
   "id": "dcce2593",
   "metadata": {},
   "outputs": [
    {
     "data": {
      "text/html": [
       "<style type=\"text/css\">\n",
       "#T_fe168 thead th {\n",
       "  background-color: #2c3e50;\n",
       "  color: white;\n",
       "  font-weight: bold;\n",
       "}\n",
       "#T_fe168 tbody tr:nth-child(odd) {\n",
       "  background-color: #ecf0f1;\n",
       "}\n",
       "#T_fe168 tbody tr:nth-child(even) {\n",
       "  background-color: white;\n",
       "}\n",
       "#T_fe168 td {\n",
       "  border: 1px solid #ccc;\n",
       "  padding: 10px;\n",
       "}\n",
       "#T_fe168 thead th {\n",
       "  text-align: left;\n",
       "}\n",
       "#T_fe168  td {\n",
       "  text-align: left;\n",
       "}\n",
       "</style>\n",
       "<table id=\"T_fe168\">\n",
       "  <thead>\n",
       "    <tr>\n",
       "      <th class=\"blank level0\" >&nbsp;</th>\n",
       "      <th id=\"T_fe168_level0_col0\" class=\"col_heading level0 col0\" >Date_Added</th>\n",
       "      <th id=\"T_fe168_level0_col1\" class=\"col_heading level0 col1\" >Score</th>\n",
       "      <th id=\"T_fe168_level0_col2\" class=\"col_heading level0 col2\" >URL</th>\n",
       "      <th id=\"T_fe168_level0_col3\" class=\"col_heading level0 col3\" >IP</th>\n",
       "      <th id=\"T_fe168_level0_col4\" class=\"col_heading level0 col4\" >Label</th>\n",
       "    </tr>\n",
       "  </thead>\n",
       "  <tbody>\n",
       "    <tr>\n",
       "      <th id=\"T_fe168_level0_row0\" class=\"row_heading level0 row0\" >0</th>\n",
       "      <td id=\"T_fe168_row0_col0\" class=\"data row0 col0\" >2024-09-03 02:35:29</td>\n",
       "      <td id=\"T_fe168_row0_col1\" class=\"data row0 col1\" >1.900000</td>\n",
       "      <td id=\"T_fe168_row0_col2\" class=\"data row0 col2\" >https://metamalklogin.gitbook.io/us</td>\n",
       "      <td id=\"T_fe168_row0_col3\" class=\"data row0 col3\" >2606:4700:4400::ac40:93d1</td>\n",
       "      <td id=\"T_fe168_row0_col4\" class=\"data row0 col4\" >Likely</td>\n",
       "    </tr>\n",
       "    <tr>\n",
       "      <th id=\"T_fe168_level0_row1\" class=\"row_heading level0 row1\" >1</th>\n",
       "      <td id=\"T_fe168_row1_col0\" class=\"data row1 col0\" >2024-09-03 02:32:54</td>\n",
       "      <td id=\"T_fe168_row1_col1\" class=\"data row1 col1\" >1.900000</td>\n",
       "      <td id=\"T_fe168_row1_col2\" class=\"data row1 col2\" >https://matixmusk-logzn.gitbook.io/us</td>\n",
       "      <td id=\"T_fe168_row1_col3\" class=\"data row1 col3\" >172.64.147.209</td>\n",
       "      <td id=\"T_fe168_row1_col4\" class=\"data row1 col4\" >Likely</td>\n",
       "    </tr>\n",
       "    <tr>\n",
       "      <th id=\"T_fe168_level0_row2\" class=\"row_heading level0 row2\" >2</th>\n",
       "      <td id=\"T_fe168_row2_col0\" class=\"data row2 col0\" >2024-09-03 02:30:59</td>\n",
       "      <td id=\"T_fe168_row2_col1\" class=\"data row2 col1\" >1.400000</td>\n",
       "      <td id=\"T_fe168_row2_col2\" class=\"data row2 col2\" >https://mastmskk-loggim.gitbook.io/us</td>\n",
       "      <td id=\"T_fe168_row2_col3\" class=\"data row2 col3\" >172.64.147.209</td>\n",
       "      <td id=\"T_fe168_row2_col4\" class=\"data row2 col4\" >Likely</td>\n",
       "    </tr>\n",
       "    <tr>\n",
       "      <th id=\"T_fe168_level0_row3\" class=\"row_heading level0 row3\" >3</th>\n",
       "      <td id=\"T_fe168_row3_col0\" class=\"data row3 col0\" >2024-09-03 02:30:39</td>\n",
       "      <td id=\"T_fe168_row3_col1\" class=\"data row3 col1\" >2.400000</td>\n",
       "      <td id=\"T_fe168_row3_col2\" class=\"data row3 col2\" >https://maitemasklogin.gitbook.io/us</td>\n",
       "      <td id=\"T_fe168_row3_col3\" class=\"data row3 col3\" >172.64.147.209</td>\n",
       "      <td id=\"T_fe168_row3_col4\" class=\"data row3 col4\" >Suspicious</td>\n",
       "    </tr>\n",
       "    <tr>\n",
       "      <th id=\"T_fe168_level0_row4\" class=\"row_heading level0 row4\" >4</th>\n",
       "      <td id=\"T_fe168_row4_col0\" class=\"data row4 col0\" >2024-09-03 02:25:36</td>\n",
       "      <td id=\"T_fe168_row4_col1\" class=\"data row4 col1\" >5.800000</td>\n",
       "      <td id=\"T_fe168_row4_col2\" class=\"data row4 col2\" >https://google.com/amp/s/pub-513415bbbd6d43e39e7853abbe68ca5a.r2.dev/jj.html#info@mup.cz</td>\n",
       "      <td id=\"T_fe168_row4_col3\" class=\"data row4 col3\" >2607:f8b0:4006:816::200e</td>\n",
       "      <td id=\"T_fe168_row4_col4\" class=\"data row4 col4\" >Phishing</td>\n",
       "    </tr>\n",
       "  </tbody>\n",
       "</table>\n"
      ],
      "text/plain": [
       "<pandas.io.formats.style.Styler at 0x7fe733262d60>"
      ]
     },
     "execution_count": 22,
     "metadata": {},
     "output_type": "execute_result"
    }
   ],
   "source": [
    "# Apply the function to create a new column 'Label'\n",
    "df_phishstats['Label'] = df_phishstats['Score'].apply(label_phishing)\n",
    "\n",
    "# Display the updated DataFrame with the new 'Label' column\n",
    "\n",
    "styled_df = df_phishstats.head().style.set_table_styles([\n",
    "    {'selector': 'thead th', 'props': [('background-color', '#2c3e50'), ('color', 'white'), ('font-weight', 'bold')]},\n",
    "    {'selector': 'tbody tr:nth-child(odd)', 'props': [('background-color', '#ecf0f1')]},\n",
    "    {'selector': 'tbody tr:nth-child(even)', 'props': [('background-color', 'white')]},\n",
    "    {'selector': 'td', 'props': [('border', '1px solid #ccc'), ('padding', '10px')]},\n",
    "    {'selector': 'thead th, td', 'props': [('text-align', 'left')]}\n",
    "])\n",
    "\n",
    "styled_df"
   ]
  },
  {
   "cell_type": "code",
   "execution_count": 23,
   "id": "28b7a1f0",
   "metadata": {},
   "outputs": [
    {
     "name": "stdout",
     "output_type": "stream",
     "text": [
      "Data size in phishstats: 46015\n"
     ]
    }
   ],
   "source": [
    "# Check the number of rows in the DataFrame\n",
    "num_rows_phishstats = df_phishstats.shape[0]\n",
    "print(f\"Data size in phishstats: {num_rows_phishstats}\")"
   ]
  },
  {
   "cell_type": "code",
   "execution_count": 24,
   "id": "22030909",
   "metadata": {},
   "outputs": [
    {
     "name": "stdout",
     "output_type": "stream",
     "text": [
      "Cleaned PhishStats data saved as Phishstats_Cleaned_Data.csv\n",
      "Previous file phishstats_data.csv has been removed.\n"
     ]
    }
   ],
   "source": [
    "# Save the cleaned DataFrame to a new CSV file\n",
    "cleaned_csv_filename = 'Phishstats_Cleaned_Data.csv'\n",
    "df_phishstats.to_csv(cleaned_csv_filename, index=False)\n",
    "\n",
    "print(f\"Cleaned PhishStats data saved as {cleaned_csv_filename}\")\n",
    "\n",
    "# Remove the previous CSV file\n",
    "previous_csv_filename = 'phishstats_data.csv'\n",
    "if os.path.exists(previous_csv_filename):\n",
    "    os.remove(previous_csv_filename)\n",
    "    print(f\"Previous file {previous_csv_filename} has been removed.\")\n",
    "else:\n",
    "    print(f\"No file named {previous_csv_filename} found.\")\n",
    "\n",
    "# Note: If you want to keep the original CSV dump, just comment out the code for removing the previous file.\n"
   ]
  },
  {
   "cell_type": "markdown",
   "id": "3d5118fa",
   "metadata": {},
   "source": [
    "# Combine Harmful URLs"
   ]
  },
  {
   "cell_type": "code",
   "execution_count": 25,
   "id": "1d676fa2",
   "metadata": {},
   "outputs": [
    {
     "data": {
      "text/html": [
       "<style type=\"text/css\">\n",
       "#T_f40d5 thead th {\n",
       "  background-color: #2c3e50;\n",
       "  color: white;\n",
       "  font-weight: bold;\n",
       "}\n",
       "#T_f40d5_row0_col0, #T_f40d5_row0_col1, #T_f40d5_row0_col2, #T_f40d5_row0_col3, #T_f40d5_row0_col4, #T_f40d5_row0_col5, #T_f40d5_row1_col0, #T_f40d5_row1_col1, #T_f40d5_row1_col2, #T_f40d5_row1_col3, #T_f40d5_row1_col4, #T_f40d5_row1_col5, #T_f40d5_row2_col0, #T_f40d5_row2_col1, #T_f40d5_row2_col2, #T_f40d5_row2_col3, #T_f40d5_row2_col4, #T_f40d5_row2_col5, #T_f40d5_row3_col0, #T_f40d5_row3_col1, #T_f40d5_row3_col2, #T_f40d5_row3_col3, #T_f40d5_row3_col4, #T_f40d5_row3_col5, #T_f40d5_row4_col0, #T_f40d5_row4_col1, #T_f40d5_row4_col2, #T_f40d5_row4_col3, #T_f40d5_row4_col4, #T_f40d5_row4_col5 {\n",
       "  background-color: #ecf0f1;\n",
       "  color: #2c3e50;\n",
       "  border: 1px solid #ccc;\n",
       "  text-align: left;\n",
       "  padding: 10px;\n",
       "}\n",
       "</style>\n",
       "<table id=\"T_f40d5\">\n",
       "  <thead>\n",
       "    <tr>\n",
       "      <th class=\"blank level0\" >&nbsp;</th>\n",
       "      <th id=\"T_f40d5_level0_col0\" class=\"col_heading level0 col0\" >Date_Added</th>\n",
       "      <th id=\"T_f40d5_level0_col1\" class=\"col_heading level0 col1\" >URL</th>\n",
       "      <th id=\"T_f40d5_level0_col2\" class=\"col_heading level0 col2\" >URL_Status</th>\n",
       "      <th id=\"T_f40d5_level0_col3\" class=\"col_heading level0 col3\" >Label</th>\n",
       "      <th id=\"T_f40d5_level0_col4\" class=\"col_heading level0 col4\" >Score</th>\n",
       "      <th id=\"T_f40d5_level0_col5\" class=\"col_heading level0 col5\" >IP</th>\n",
       "    </tr>\n",
       "  </thead>\n",
       "  <tbody>\n",
       "    <tr>\n",
       "      <th id=\"T_f40d5_level0_row0\" class=\"row_heading level0 row0\" >0</th>\n",
       "      <td id=\"T_f40d5_row0_col0\" class=\"data row0 col0\" >2024-09-03 06:22:39</td>\n",
       "      <td id=\"T_f40d5_row0_col1\" class=\"data row0 col1\" >http://80.76.176.23/kali-live.iso</td>\n",
       "      <td id=\"T_f40d5_row0_col2\" class=\"data row0 col2\" >online</td>\n",
       "      <td id=\"T_f40d5_row0_col3\" class=\"data row0 col3\" >Malware</td>\n",
       "      <td id=\"T_f40d5_row0_col4\" class=\"data row0 col4\" >nan</td>\n",
       "      <td id=\"T_f40d5_row0_col5\" class=\"data row0 col5\" >nan</td>\n",
       "    </tr>\n",
       "    <tr>\n",
       "      <th id=\"T_f40d5_level0_row1\" class=\"row_heading level0 row1\" >1</th>\n",
       "      <td id=\"T_f40d5_row1_col0\" class=\"data row1 col0\" >2024-09-03 06:10:24</td>\n",
       "      <td id=\"T_f40d5_row1_col1\" class=\"data row1 col1\" >http://80.76.176.23/wlu.iso</td>\n",
       "      <td id=\"T_f40d5_row1_col2\" class=\"data row1 col2\" >online</td>\n",
       "      <td id=\"T_f40d5_row1_col3\" class=\"data row1 col3\" >Malware</td>\n",
       "      <td id=\"T_f40d5_row1_col4\" class=\"data row1 col4\" >nan</td>\n",
       "      <td id=\"T_f40d5_row1_col5\" class=\"data row1 col5\" >nan</td>\n",
       "    </tr>\n",
       "    <tr>\n",
       "      <th id=\"T_f40d5_level0_row2\" class=\"row_heading level0 row2\" >2</th>\n",
       "      <td id=\"T_f40d5_row2_col0\" class=\"data row2 col0\" >2024-09-03 06:09:43</td>\n",
       "      <td id=\"T_f40d5_row2_col1\" class=\"data row2 col1\" >http://193.149.176.152:9999/update.dll</td>\n",
       "      <td id=\"T_f40d5_row2_col2\" class=\"data row2 col2\" >online</td>\n",
       "      <td id=\"T_f40d5_row2_col3\" class=\"data row2 col3\" >Malware</td>\n",
       "      <td id=\"T_f40d5_row2_col4\" class=\"data row2 col4\" >nan</td>\n",
       "      <td id=\"T_f40d5_row2_col5\" class=\"data row2 col5\" >nan</td>\n",
       "    </tr>\n",
       "    <tr>\n",
       "      <th id=\"T_f40d5_level0_row3\" class=\"row_heading level0 row3\" >3</th>\n",
       "      <td id=\"T_f40d5_row3_col0\" class=\"data row3 col0\" >2024-09-03 06:09:38</td>\n",
       "      <td id=\"T_f40d5_row3_col1\" class=\"data row3 col1\" >http://193.149.176.152:9999/upgrade.exe</td>\n",
       "      <td id=\"T_f40d5_row3_col2\" class=\"data row3 col2\" >offline</td>\n",
       "      <td id=\"T_f40d5_row3_col3\" class=\"data row3 col3\" >Malware</td>\n",
       "      <td id=\"T_f40d5_row3_col4\" class=\"data row3 col4\" >nan</td>\n",
       "      <td id=\"T_f40d5_row3_col5\" class=\"data row3 col5\" >nan</td>\n",
       "    </tr>\n",
       "    <tr>\n",
       "      <th id=\"T_f40d5_level0_row4\" class=\"row_heading level0 row4\" >4</th>\n",
       "      <td id=\"T_f40d5_row4_col0\" class=\"data row4 col0\" >2024-09-03 06:09:36</td>\n",
       "      <td id=\"T_f40d5_row4_col1\" class=\"data row4 col1\" >http://80.76.176.23/mimi.iso</td>\n",
       "      <td id=\"T_f40d5_row4_col2\" class=\"data row4 col2\" >online</td>\n",
       "      <td id=\"T_f40d5_row4_col3\" class=\"data row4 col3\" >Malware</td>\n",
       "      <td id=\"T_f40d5_row4_col4\" class=\"data row4 col4\" >nan</td>\n",
       "      <td id=\"T_f40d5_row4_col5\" class=\"data row4 col5\" >nan</td>\n",
       "    </tr>\n",
       "  </tbody>\n",
       "</table>\n"
      ],
      "text/plain": [
       "<pandas.io.formats.style.Styler at 0x7fe7332624c0>"
      ]
     },
     "execution_count": 25,
     "metadata": {},
     "output_type": "execute_result"
    }
   ],
   "source": [
    "# Combine the two DataFrames\n",
    "combined_df = pd.concat([df_cleaned, df_phishstats])\n",
    "\n",
    "# Sort the combined DataFrame by the 'Date_Added' column\n",
    "combined_df = combined_df.sort_values(by='Date_Added', ascending=False)\n",
    "\n",
    "# Define the table style\n",
    "table_style = {\n",
    "    'selector': 'thead th',\n",
    "    'props': [('background-color', '#2c3e50'), ('color', 'white'), ('font-weight', 'bold')]\n",
    "}\n",
    "\n",
    "# Apply the custom style and display the combined DataFrame\n",
    "styled_table = combined_df.head().style.set_table_styles([table_style]).set_properties(\n",
    "    **{'background-color': '#ecf0f1', 'color': '#2c3e50', 'border': '1px solid #ccc', 'text-align': 'left', 'padding': '10px'}\n",
    ")\n",
    "\n",
    "styled_table\n"
   ]
  },
  {
   "cell_type": "code",
   "execution_count": 26,
   "id": "c92bd1c7",
   "metadata": {},
   "outputs": [
    {
     "data": {
      "text/html": [
       "<style type=\"text/css\">\n",
       "#T_a7922 thead th {\n",
       "  background-color: #2c3e50;\n",
       "  color: white;\n",
       "  font-weight: bold;\n",
       "}\n",
       "#T_a7922_row0_col0, #T_a7922_row0_col1, #T_a7922_row1_col0, #T_a7922_row1_col1, #T_a7922_row2_col0, #T_a7922_row2_col1, #T_a7922_row3_col0, #T_a7922_row3_col1, #T_a7922_row4_col0, #T_a7922_row4_col1 {\n",
       "  background-color: #ecf0f1;\n",
       "  color: #2c3e50;\n",
       "  border: 1px solid #ccc;\n",
       "  text-align: left;\n",
       "  padding: 10px;\n",
       "}\n",
       "</style>\n",
       "<table id=\"T_a7922\">\n",
       "  <thead>\n",
       "    <tr>\n",
       "      <th class=\"blank level0\" >&nbsp;</th>\n",
       "      <th id=\"T_a7922_level0_col0\" class=\"col_heading level0 col0\" >URL</th>\n",
       "      <th id=\"T_a7922_level0_col1\" class=\"col_heading level0 col1\" >Label</th>\n",
       "    </tr>\n",
       "  </thead>\n",
       "  <tbody>\n",
       "    <tr>\n",
       "      <th id=\"T_a7922_level0_row0\" class=\"row_heading level0 row0\" >0</th>\n",
       "      <td id=\"T_a7922_row0_col0\" class=\"data row0 col0\" >http://80.76.176.23/kali-live.iso</td>\n",
       "      <td id=\"T_a7922_row0_col1\" class=\"data row0 col1\" >Malware</td>\n",
       "    </tr>\n",
       "    <tr>\n",
       "      <th id=\"T_a7922_level0_row1\" class=\"row_heading level0 row1\" >1</th>\n",
       "      <td id=\"T_a7922_row1_col0\" class=\"data row1 col0\" >http://80.76.176.23/wlu.iso</td>\n",
       "      <td id=\"T_a7922_row1_col1\" class=\"data row1 col1\" >Malware</td>\n",
       "    </tr>\n",
       "    <tr>\n",
       "      <th id=\"T_a7922_level0_row2\" class=\"row_heading level0 row2\" >2</th>\n",
       "      <td id=\"T_a7922_row2_col0\" class=\"data row2 col0\" >http://193.149.176.152:9999/update.dll</td>\n",
       "      <td id=\"T_a7922_row2_col1\" class=\"data row2 col1\" >Malware</td>\n",
       "    </tr>\n",
       "    <tr>\n",
       "      <th id=\"T_a7922_level0_row3\" class=\"row_heading level0 row3\" >3</th>\n",
       "      <td id=\"T_a7922_row3_col0\" class=\"data row3 col0\" >http://193.149.176.152:9999/upgrade.exe</td>\n",
       "      <td id=\"T_a7922_row3_col1\" class=\"data row3 col1\" >Malware</td>\n",
       "    </tr>\n",
       "    <tr>\n",
       "      <th id=\"T_a7922_level0_row4\" class=\"row_heading level0 row4\" >4</th>\n",
       "      <td id=\"T_a7922_row4_col0\" class=\"data row4 col0\" >http://80.76.176.23/mimi.iso</td>\n",
       "      <td id=\"T_a7922_row4_col1\" class=\"data row4 col1\" >Malware</td>\n",
       "    </tr>\n",
       "  </tbody>\n",
       "</table>\n"
      ],
      "text/plain": [
       "<pandas.io.formats.style.Styler at 0x7fe6e002bd60>"
      ]
     },
     "execution_count": 26,
     "metadata": {},
     "output_type": "execute_result"
    }
   ],
   "source": [
    "# Drop the specified columns from the DataFrame\n",
    "columns_to_drop = ['URL_Status', 'Score', 'IP', 'Date_Added']\n",
    "df_final = combined_df.drop(columns=columns_to_drop)\n",
    "\n",
    "# Define the table style\n",
    "table_style = {\n",
    "    'selector': 'thead th',\n",
    "    'props': [('background-color', '#2c3e50'), ('color', 'white'), ('font-weight', 'bold')]\n",
    "}\n",
    "\n",
    "# Apply the custom style and display the first few rows of the final DataFrame\n",
    "styled_final_table = df_final.head().style.set_table_styles([table_style]).set_properties(\n",
    "    **{'background-color': '#ecf0f1', 'color': '#2c3e50', 'border': '1px solid #ccc', 'text-align': 'left', 'padding': '10px'}\n",
    ")\n",
    "\n",
    "styled_final_table\n"
   ]
  },
  {
   "cell_type": "code",
   "execution_count": 27,
   "id": "8f1dbfed",
   "metadata": {},
   "outputs": [
    {
     "name": "stdout",
     "output_type": "stream",
     "text": [
      "Combined DataFrame size: 324641\n"
     ]
    }
   ],
   "source": [
    "# Check the number of rows in the DataFrame\n",
    "num_rows = combined_df.shape[0]\n",
    "print(f\"Combined DataFrame size: {num_rows}\")"
   ]
  },
  {
   "cell_type": "code",
   "execution_count": 28,
   "id": "a1f2f84b",
   "metadata": {},
   "outputs": [
    {
     "name": "stdout",
     "output_type": "stream",
     "text": [
      "Combined and sorted harmful URLs data saved as combined_harmful_urls.csv\n",
      "File Phishstats_Cleaned_Data.csv has been removed.\n",
      "File URLHAUS_Cleaned_Data.csv has been removed.\n"
     ]
    }
   ],
   "source": [
    "# Save the combined and sorted DataFrame to a new CSV file\n",
    "combined_csv_filename = 'combined_harmful_urls.csv'\n",
    "df_final.to_csv(combined_csv_filename, index=False)\n",
    "\n",
    "print(f\"Combined and sorted harmful URLs data saved as {combined_csv_filename}\")\n",
    "\n",
    "# Files to be deleted\n",
    "files_to_delete = ['Phishstats_Cleaned_Data.csv', 'URLHAUS_Cleaned_Data.csv']\n",
    "\n",
    "# Delete the specified files\n",
    "# If you want to keep the cleaned CSV files, comment out the following block of code\n",
    "for file in files_to_delete:\n",
    "    if os.path.exists(file):\n",
    "        os.remove(file)\n",
    "        print(f\"File {file} has been removed.\")\n",
    "    else:\n",
    "        print(f\"No file named {file} found.\")\n"
   ]
  },
  {
   "cell_type": "markdown",
   "id": "09eafd4a",
   "metadata": {},
   "source": [
    "# Retrieve Harmless URLs"
   ]
  },
  {
   "cell_type": "markdown",
   "id": "65e332cd",
   "metadata": {},
   "source": [
    "## Extracting URLs from Common Crawl"
   ]
  },
  {
   "cell_type": "code",
   "execution_count": 29,
   "id": "6a240408",
   "metadata": {},
   "outputs": [
    {
     "name": "stderr",
     "output_type": "stream",
     "text": [
      "2024-09-03 13:53:07,755 - INFO - Starting download from https://data.commoncrawl.org/crawl-data/CC-MAIN-2024-33/wat.paths.gz\n",
      "2024-09-03 13:53:08,829 - INFO - File downloaded successfully as wat.paths.gz\n",
      "2024-09-03 13:53:08,831 - INFO - Downloaded wat.paths.gz successfully.\n"
     ]
    }
   ],
   "source": [
    "# Configuration\n",
    "wat_paths_url = 'https://data.commoncrawl.org/crawl-data/CC-MAIN-2024-33/wat.paths.gz'\n",
    "wat_paths_filename = 'wat.paths.gz'\n",
    "\n",
    "# Download the WAT paths file\n",
    "if download_file(wat_paths_url, wat_paths_filename):\n",
    "    logging.info(f\"Downloaded {wat_paths_filename} successfully.\")\n",
    "else:\n",
    "    logging.error(\"Failed to download the WAT paths file.\")\n"
   ]
  },
  {
   "cell_type": "code",
   "execution_count": 30,
   "id": "cf61f73f",
   "metadata": {},
   "outputs": [
    {
     "name": "stderr",
     "output_type": "stream",
     "text": [
      "2024-09-03 13:53:08,840 - INFO - Extracting WAT paths from wat.paths.gz\n",
      "2024-09-03 13:53:08,888 - INFO - Total WAT paths found: 90000\n"
     ]
    },
    {
     "name": "stdout",
     "output_type": "stream",
     "text": [
      "Enter the number of WAT paths you would like to display -- Recommend 10 -- (Warning: Displaying too many may slow down your machine): 10\n"
     ]
    },
    {
     "name": "stderr",
     "output_type": "stream",
     "text": [
      "2024-09-03 13:53:12,621 - INFO - First 10 WAT paths: ['crawl-data/CC-MAIN-2024-33/segments/1722640353668.0/wat/CC-MAIN-20240802234508-20240803024508-00000.warc.wat.gz', 'crawl-data/CC-MAIN-2024-33/segments/1722640353668.0/wat/CC-MAIN-20240802234508-20240803024508-00001.warc.wat.gz', 'crawl-data/CC-MAIN-2024-33/segments/1722640353668.0/wat/CC-MAIN-20240802234508-20240803024508-00002.warc.wat.gz', 'crawl-data/CC-MAIN-2024-33/segments/1722640353668.0/wat/CC-MAIN-20240802234508-20240803024508-00003.warc.wat.gz', 'crawl-data/CC-MAIN-2024-33/segments/1722640353668.0/wat/CC-MAIN-20240802234508-20240803024508-00004.warc.wat.gz', 'crawl-data/CC-MAIN-2024-33/segments/1722640353668.0/wat/CC-MAIN-20240802234508-20240803024508-00005.warc.wat.gz', 'crawl-data/CC-MAIN-2024-33/segments/1722640353668.0/wat/CC-MAIN-20240802234508-20240803024508-00006.warc.wat.gz', 'crawl-data/CC-MAIN-2024-33/segments/1722640353668.0/wat/CC-MAIN-20240802234508-20240803024508-00007.warc.wat.gz', 'crawl-data/CC-MAIN-2024-33/segments/1722640353668.0/wat/CC-MAIN-20240802234508-20240803024508-00008.warc.wat.gz', 'crawl-data/CC-MAIN-2024-33/segments/1722640353668.0/wat/CC-MAIN-20240802234508-20240803024508-00009.warc.wat.gz']\n"
     ]
    }
   ],
   "source": [
    "wat_paths = extract_wat_paths(wat_paths_filename)"
   ]
  },
  {
   "cell_type": "code",
   "execution_count": 31,
   "id": "c7e51f72",
   "metadata": {},
   "outputs": [
    {
     "name": "stdout",
     "output_type": "stream",
     "text": [
      "Enter the number of WAT files you want to download -- Recommend 10 -- (Warning: Downloading too many files may result in large data sizes and slow processing): 10\n"
     ]
    },
    {
     "name": "stderr",
     "output_type": "stream",
     "text": [
      "2024-09-03 13:53:14,155 - INFO - Downloading https://data.commoncrawl.org/crawl-data/CC-MAIN-2024-33/segments/1722640353668.0/wat/CC-MAIN-20240802234508-20240803024508-00000.warc.wat.gz\n",
      "2024-09-03 13:54:41,207 - INFO - Downloaded wat_files/CC-MAIN-20240802234508-20240803024508-00000.warc.wat.gz\n",
      "2024-09-03 13:54:41,207 - INFO - Downloading https://data.commoncrawl.org/crawl-data/CC-MAIN-2024-33/segments/1722640353668.0/wat/CC-MAIN-20240802234508-20240803024508-00001.warc.wat.gz\n",
      "2024-09-03 13:56:07,180 - INFO - Downloaded wat_files/CC-MAIN-20240802234508-20240803024508-00001.warc.wat.gz\n",
      "2024-09-03 13:56:07,183 - INFO - Downloading https://data.commoncrawl.org/crawl-data/CC-MAIN-2024-33/segments/1722640353668.0/wat/CC-MAIN-20240802234508-20240803024508-00002.warc.wat.gz\n",
      "2024-09-03 13:57:32,898 - INFO - Downloaded wat_files/CC-MAIN-20240802234508-20240803024508-00002.warc.wat.gz\n",
      "2024-09-03 13:57:32,900 - INFO - Downloading https://data.commoncrawl.org/crawl-data/CC-MAIN-2024-33/segments/1722640353668.0/wat/CC-MAIN-20240802234508-20240803024508-00003.warc.wat.gz\n",
      "2024-09-03 13:58:59,029 - INFO - Downloaded wat_files/CC-MAIN-20240802234508-20240803024508-00003.warc.wat.gz\n",
      "2024-09-03 13:58:59,029 - INFO - Downloading https://data.commoncrawl.org/crawl-data/CC-MAIN-2024-33/segments/1722640353668.0/wat/CC-MAIN-20240802234508-20240803024508-00004.warc.wat.gz\n",
      "2024-09-03 14:00:33,958 - INFO - Downloaded wat_files/CC-MAIN-20240802234508-20240803024508-00004.warc.wat.gz\n",
      "2024-09-03 14:00:33,970 - INFO - Downloading https://data.commoncrawl.org/crawl-data/CC-MAIN-2024-33/segments/1722640353668.0/wat/CC-MAIN-20240802234508-20240803024508-00005.warc.wat.gz\n",
      "2024-09-03 14:02:02,400 - INFO - Downloaded wat_files/CC-MAIN-20240802234508-20240803024508-00005.warc.wat.gz\n",
      "2024-09-03 14:02:02,417 - INFO - Downloading https://data.commoncrawl.org/crawl-data/CC-MAIN-2024-33/segments/1722640353668.0/wat/CC-MAIN-20240802234508-20240803024508-00006.warc.wat.gz\n",
      "2024-09-03 14:03:26,800 - INFO - Downloaded wat_files/CC-MAIN-20240802234508-20240803024508-00006.warc.wat.gz\n",
      "2024-09-03 14:03:26,807 - INFO - Downloading https://data.commoncrawl.org/crawl-data/CC-MAIN-2024-33/segments/1722640353668.0/wat/CC-MAIN-20240802234508-20240803024508-00007.warc.wat.gz\n",
      "2024-09-03 14:04:53,725 - INFO - Downloaded wat_files/CC-MAIN-20240802234508-20240803024508-00007.warc.wat.gz\n",
      "2024-09-03 14:04:53,727 - INFO - Downloading https://data.commoncrawl.org/crawl-data/CC-MAIN-2024-33/segments/1722640353668.0/wat/CC-MAIN-20240802234508-20240803024508-00008.warc.wat.gz\n",
      "2024-09-03 14:06:22,313 - INFO - Downloaded wat_files/CC-MAIN-20240802234508-20240803024508-00008.warc.wat.gz\n",
      "2024-09-03 14:06:22,315 - INFO - Downloading https://data.commoncrawl.org/crawl-data/CC-MAIN-2024-33/segments/1722640353668.0/wat/CC-MAIN-20240802234508-20240803024508-00009.warc.wat.gz\n",
      "2024-09-03 14:07:53,524 - INFO - Downloaded wat_files/CC-MAIN-20240802234508-20240803024508-00009.warc.wat.gz\n",
      "2024-09-03 14:07:53,525 - INFO - Successfully downloaded 10 WAT files.\n"
     ]
    }
   ],
   "source": [
    "download_count = int(input(\"Enter the number of WAT files you want to download -- Recommend 10 -- (Warning: Downloading too many files may result in large data sizes and slow processing): \"))\n",
    "download_wat_files(wat_paths, download_count)"
   ]
  },
  {
   "cell_type": "code",
   "execution_count": 32,
   "id": "e2981e19",
   "metadata": {},
   "outputs": [
    {
     "name": "stderr",
     "output_type": "stream",
     "text": [
      "2024-09-03 14:07:53,558 - INFO - Starting URL extraction from WAT files...\n",
      "2024-09-03 14:08:05,343 - INFO - Extracted 78510 URLs from CC-MAIN-20240802234508-20240803024508-00008.warc.wat.gz with 785127 malformed lines.\n",
      "2024-09-03 14:08:16,936 - INFO - Extracted 78252 URLs from CC-MAIN-20240802234508-20240803024508-00001.warc.wat.gz with 782547 malformed lines.\n",
      "2024-09-03 14:08:28,937 - INFO - Extracted 78759 URLs from CC-MAIN-20240802234508-20240803024508-00004.warc.wat.gz with 787617 malformed lines.\n",
      "2024-09-03 14:08:40,713 - INFO - Extracted 78894 URLs from CC-MAIN-20240802234508-20240803024508-00007.warc.wat.gz with 788967 malformed lines.\n",
      "2024-09-03 14:08:52,476 - INFO - Extracted 78696 URLs from CC-MAIN-20240802234508-20240803024508-00002.warc.wat.gz with 786987 malformed lines.\n",
      "2024-09-03 14:09:04,295 - INFO - Extracted 78615 URLs from CC-MAIN-20240802234508-20240803024508-00005.warc.wat.gz with 786177 malformed lines.\n",
      "2024-09-03 14:09:16,112 - INFO - Extracted 78750 URLs from CC-MAIN-20240802234508-20240803024508-00000.warc.wat.gz with 787527 malformed lines.\n",
      "2024-09-03 14:09:27,834 - INFO - Extracted 78915 URLs from CC-MAIN-20240802234508-20240803024508-00009.warc.wat.gz with 789177 malformed lines.\n",
      "2024-09-03 14:09:39,622 - INFO - Extracted 79077 URLs from CC-MAIN-20240802234508-20240803024508-00003.warc.wat.gz with 790797 malformed lines.\n",
      "2024-09-03 14:09:51,979 - INFO - Extracted 78684 URLs from CC-MAIN-20240802234508-20240803024508-00006.warc.wat.gz with 786867 malformed lines.\n",
      "2024-09-03 14:09:51,981 - INFO - Total URLs extracted: 787152\n",
      "2024-09-03 14:09:51,981 - WARNING - Total malformed JSON lines skipped: 7871790\n"
     ]
    }
   ],
   "source": [
    "# Directory where WAT files are stored\n",
    "wat_files_directory = 'wat_files'\n",
    "\n",
    "# Start extraction process\n",
    "logging.info(\"Starting URL extraction from WAT files...\")\n",
    "\n",
    "all_urls = []\n",
    "total_malformed_lines = 0\n",
    "\n",
    "for wat_file_name in os.listdir(wat_files_directory):\n",
    "    wat_file_path = os.path.join(wat_files_directory, wat_file_name)\n",
    "    \n",
    "    urls, malformed_lines_count = extract_urls_from_wat(wat_file_path)\n",
    "    all_urls.extend(urls)\n",
    "    total_malformed_lines += malformed_lines_count\n",
    "    logging.info(f\"Extracted {len(urls)} URLs from {wat_file_name} with {malformed_lines_count} malformed lines.\")\n",
    "\n",
    "logging.info(f\"Total URLs extracted: {len(all_urls)}\")\n",
    "logging.warning(f\"Total malformed JSON lines skipped: {total_malformed_lines}\")"
   ]
  },
  {
   "cell_type": "code",
   "execution_count": 36,
   "id": "25efa014",
   "metadata": {},
   "outputs": [
    {
     "name": "stdout",
     "output_type": "stream",
     "text": [
      "Harmless URLs data saved as harmless_urls_commoncrawl.csv\n",
      "Deleted CC-MAIN-20240802234508-20240803024508-00008.warc.wat.gz\n",
      "Deleted CC-MAIN-20240802234508-20240803024508-00001.warc.wat.gz\n",
      "Deleted CC-MAIN-20240802234508-20240803024508-00004.warc.wat.gz\n",
      "Deleted CC-MAIN-20240802234508-20240803024508-00007.warc.wat.gz\n",
      "Deleted CC-MAIN-20240802234508-20240803024508-00002.warc.wat.gz\n",
      "Deleted CC-MAIN-20240802234508-20240803024508-00005.warc.wat.gz\n",
      "Deleted CC-MAIN-20240802234508-20240803024508-00000.warc.wat.gz\n",
      "Deleted CC-MAIN-20240802234508-20240803024508-00009.warc.wat.gz\n",
      "Deleted CC-MAIN-20240802234508-20240803024508-00003.warc.wat.gz\n",
      "Deleted CC-MAIN-20240802234508-20240803024508-00006.warc.wat.gz\n",
      "Removed empty directory wat_files\n",
      "Deleted wat.paths.gz\n"
     ]
    }
   ],
   "source": [
    "# Define the filename for the CSV\n",
    "harmless_csv_filename = 'harmless_urls_commoncrawl.csv'\n",
    "\n",
    "df_harmless_urls = pd.DataFrame({'URL': all_urls})\n",
    "# Save the DataFrame to a CSV file\n",
    "df_harmless_urls.to_csv(harmless_csv_filename, index=False)\n",
    "\n",
    "print(f\"Harmless URLs data saved as {harmless_csv_filename}\")\n",
    "\n",
    "# Delete the previous WAT files after extraction\n",
    "wat_files_directory = 'wat_files'\n",
    "\n",
    "for wat_file_name in os.listdir(wat_files_directory):\n",
    "    wat_file_path = os.path.join(wat_files_directory, wat_file_name)\n",
    "    try:\n",
    "        os.remove(wat_file_path)\n",
    "        print(f\"Deleted {wat_file_name}\")\n",
    "    except Exception as e:\n",
    "        print(f\"Failed to delete {wat_file_name}: {e}\")\n",
    "\n",
    "# Optionally, you can remove the directory itself if it's empty\n",
    "if not os.listdir(wat_files_directory):\n",
    "    os.rmdir(wat_files_directory)\n",
    "    print(f\"Removed empty directory {wat_files_directory}\")\n",
    "\n",
    "# Delete the wat.paths.gz file after extraction\n",
    "wat_paths_filename = 'wat.paths.gz'\n",
    "\n",
    "if os.path.exists(wat_paths_filename):\n",
    "    try:\n",
    "        os.remove(wat_paths_filename)\n",
    "        print(f\"Deleted {wat_paths_filename}\")\n",
    "    except Exception as e:\n",
    "        print(f\"Failed to delete {wat_paths_filename}: {e}\")\n",
    "else:\n",
    "    print(f\"No file named {wat_paths_filename} found.\")\n"
   ]
  },
  {
   "cell_type": "code",
   "execution_count": 37,
   "id": "bca223c5",
   "metadata": {},
   "outputs": [
    {
     "data": {
      "text/html": [
       "<style type=\"text/css\">\n",
       "#T_7615c thead th {\n",
       "  background-color: #2c3e50;\n",
       "  color: white;\n",
       "  font-weight: bold;\n",
       "}\n",
       "#T_7615c tbody td {\n",
       "  background-color: #ecf0f1;\n",
       "  color: #2c3e50;\n",
       "  border: 1px solid #ccc;\n",
       "  padding: 10px;\n",
       "}\n",
       "#T_7615c tbody tr:hover td {\n",
       "  background-color: #d1e7dd;\n",
       "}\n",
       "</style>\n",
       "<table id=\"T_7615c\">\n",
       "  <thead>\n",
       "    <tr>\n",
       "      <th class=\"blank level0\" >&nbsp;</th>\n",
       "      <th id=\"T_7615c_level0_col0\" class=\"col_heading level0 col0\" >URL</th>\n",
       "    </tr>\n",
       "  </thead>\n",
       "  <tbody>\n",
       "    <tr>\n",
       "      <th id=\"T_7615c_level0_row0\" class=\"row_heading level0 row0\" >0</th>\n",
       "      <td id=\"T_7615c_row0_col0\" class=\"data row0 col0\" >http://02234.cc/index.php/voddetail69008.html</td>\n",
       "    </tr>\n",
       "    <tr>\n",
       "      <th id=\"T_7615c_level0_row1\" class=\"row_heading level0 row1\" >1</th>\n",
       "      <td id=\"T_7615c_row1_col0\" class=\"data row1 col0\" >http://02234.cc/index.php/voddetail69008.html</td>\n",
       "    </tr>\n",
       "    <tr>\n",
       "      <th id=\"T_7615c_level0_row2\" class=\"row_heading level0 row2\" >2</th>\n",
       "      <td id=\"T_7615c_row2_col0\" class=\"data row2 col0\" >http://02234.cc/index.php/voddetail69008.html</td>\n",
       "    </tr>\n",
       "    <tr>\n",
       "      <th id=\"T_7615c_level0_row3\" class=\"row_heading level0 row3\" >3</th>\n",
       "      <td id=\"T_7615c_row3_col0\" class=\"data row3 col0\" >http://03dev.com/voddetail/435588.html</td>\n",
       "    </tr>\n",
       "    <tr>\n",
       "      <th id=\"T_7615c_level0_row4\" class=\"row_heading level0 row4\" >4</th>\n",
       "      <td id=\"T_7615c_row4_col0\" class=\"data row4 col0\" >http://03dev.com/voddetail/435588.html</td>\n",
       "    </tr>\n",
       "    <tr>\n",
       "      <th id=\"T_7615c_level0_row5\" class=\"row_heading level0 row5\" >787147</th>\n",
       "      <td id=\"T_7615c_row5_col0\" class=\"data row5 col0\" >https://zygrib.org/forum/ucp.php?mode=privacy&sid=b37ffae204825332e6ccbb08e766bcc2</td>\n",
       "    </tr>\n",
       "    <tr>\n",
       "      <th id=\"T_7615c_level0_row6\" class=\"row_heading level0 row6\" >787148</th>\n",
       "      <td id=\"T_7615c_row6_col0\" class=\"data row6 col0\" >https://zygrib.org/forum/ucp.php?mode=privacy&sid=b37ffae204825332e6ccbb08e766bcc2</td>\n",
       "    </tr>\n",
       "    <tr>\n",
       "      <th id=\"T_7615c_level0_row7\" class=\"row_heading level0 row7\" >787149</th>\n",
       "      <td id=\"T_7615c_row7_col0\" class=\"data row7 col0\" >https://zyrixe.pp.ua/zokubishi/jak-plesti-kosichki-samij-sobi-poetapno.html</td>\n",
       "    </tr>\n",
       "    <tr>\n",
       "      <th id=\"T_7615c_level0_row8\" class=\"row_heading level0 row8\" >787150</th>\n",
       "      <td id=\"T_7615c_row8_col0\" class=\"data row8 col0\" >https://zyrixe.pp.ua/zokubishi/jak-plesti-kosichki-samij-sobi-poetapno.html</td>\n",
       "    </tr>\n",
       "    <tr>\n",
       "      <th id=\"T_7615c_level0_row9\" class=\"row_heading level0 row9\" >787151</th>\n",
       "      <td id=\"T_7615c_row9_col0\" class=\"data row9 col0\" >https://zyrixe.pp.ua/zokubishi/jak-plesti-kosichki-samij-sobi-poetapno.html</td>\n",
       "    </tr>\n",
       "  </tbody>\n",
       "</table>\n"
      ],
      "text/plain": [
       "<pandas.io.formats.style.Styler at 0x7fe734731d90>"
      ]
     },
     "metadata": {},
     "output_type": "display_data"
    }
   ],
   "source": [
    "# Concatenate the first 5 and last 5 entries\n",
    "first_5 = df_harmless_urls.head(5)\n",
    "last_5 = df_harmless_urls.tail(5)\n",
    "combined_df = pd.concat([first_5, last_5])\n",
    "\n",
    "# Display the concatenated DataFrame with the custom table style\n",
    "display(combined_df.style.set_table_styles([\n",
    "    {'selector': 'thead th', 'props': [('background-color', '#2c3e50'), ('color', 'white'), ('font-weight', 'bold')]},\n",
    "    {'selector': 'tbody td', 'props': [('background-color', '#ecf0f1'), ('color', '#2c3e50'), ('border', '1px solid #ccc'), ('padding', '10px')]},\n",
    "    {'selector': 'tbody tr:hover td', 'props': [('background-color', '#d1e7dd')]},\n",
    "]))\n"
   ]
  },
  {
   "cell_type": "markdown",
   "id": "d3dadf79",
   "metadata": {},
   "source": [
    "## Verify and sanitize the extracted data to ensure the exclusion of any harmful URLs."
   ]
  },
  {
   "cell_type": "code",
   "execution_count": 38,
   "id": "a4b7da07",
   "metadata": {},
   "outputs": [
    {
     "name": "stdout",
     "output_type": "stream",
     "text": [
      "Removed 0 harmful URLs from the harmless dataset.\n",
      "Final count of harmless URLs: 787152\n"
     ]
    }
   ],
   "source": [
    "# Load the CSV file containing harmful URLs\n",
    "harmful_urls_df = pd.read_csv('combined_harmful_urls.csv')  # Adjust the filename as needed\n",
    "\n",
    "# Convert the harmful URLs column into a set for efficient look-up\n",
    "harmful_urls_set = set(harmful_urls_df['URL'])\n",
    "\n",
    "# Filter the harmless URLs DataFrame by excluding any URLs found in the harmful set\n",
    "df_harmless_cleaned = df_harmless_urls[~df_harmless_urls['URL'].isin(harmful_urls_set)]\n",
    "\n",
    "# Calculate the number of URLs removed and print the summary\n",
    "urls_removed = len(df_harmless_urls) - len(df_harmless_cleaned)\n",
    "print(f\"Removed {urls_removed} harmful URLs from the harmless dataset.\")\n",
    "print(f\"Final count of harmless URLs: {len(df_harmless_cleaned)}\")\n"
   ]
  },
  {
   "cell_type": "code",
   "execution_count": 39,
   "id": "30596400",
   "metadata": {},
   "outputs": [],
   "source": [
    "# Add a new column \"Label\" and set its value to \"Harmless\"\n",
    "df_harmless_cleaned['Label'] = 'Harmless'"
   ]
  },
  {
   "cell_type": "code",
   "execution_count": 40,
   "id": "83613893",
   "metadata": {},
   "outputs": [
    {
     "name": "stdout",
     "output_type": "stream",
     "text": [
      "Cleaned harmless URLs data saved as Cleaned_Harmless_urls_commoncrawl.csv\n",
      "Previous file harmless_urls_commoncrawl.csv has been removed.\n"
     ]
    }
   ],
   "source": [
    "# Save the cleaned harmless URLs to a new CSV file\n",
    "cleaned_harmless_csv_filename = 'Cleaned_Harmless_urls_commoncrawl.csv'\n",
    "df_harmless_cleaned.to_csv(cleaned_harmless_csv_filename, index=False)\n",
    "\n",
    "print(f\"Cleaned harmless URLs data saved as {cleaned_harmless_csv_filename}\")\n",
    "\n",
    "# Remove the previous CSV file\n",
    "previous_harmless_csv_filename = 'harmless_urls_commoncrawl.csv'\n",
    "if os.path.exists(previous_harmless_csv_filename):\n",
    "    os.remove(previous_harmless_csv_filename)\n",
    "    print(f\"Previous file {previous_harmless_csv_filename} has been removed.\")\n",
    "else:\n",
    "    print(f\"No file named {previous_harmless_csv_filename} found.\")\n"
   ]
  },
  {
   "cell_type": "code",
   "execution_count": 41,
   "id": "6702b7b8",
   "metadata": {},
   "outputs": [
    {
     "data": {
      "text/html": [
       "<style type=\"text/css\">\n",
       "#T_105c3 thead th {\n",
       "  background-color: #2c3e50;\n",
       "  color: white;\n",
       "  font-weight: bold;\n",
       "  padding: 10px;\n",
       "}\n",
       "#T_105c3 tbody td {\n",
       "  background-color: #ecf0f1;\n",
       "  color: #2c3e50;\n",
       "  border: 1px solid #ccc;\n",
       "  text-align: left;\n",
       "  padding: 10px;\n",
       "}\n",
       "#T_105c3_row0_col0, #T_105c3_row0_col1, #T_105c3_row1_col0, #T_105c3_row1_col1, #T_105c3_row2_col0, #T_105c3_row2_col1, #T_105c3_row3_col0, #T_105c3_row3_col1, #T_105c3_row4_col0, #T_105c3_row4_col1, #T_105c3_row5_col0, #T_105c3_row5_col1, #T_105c3_row6_col0, #T_105c3_row6_col1, #T_105c3_row7_col0, #T_105c3_row7_col1, #T_105c3_row8_col0, #T_105c3_row8_col1, #T_105c3_row9_col0, #T_105c3_row9_col1 {\n",
       "  text-align: left;\n",
       "  padding: 10px;\n",
       "}\n",
       "</style>\n",
       "<table id=\"T_105c3\">\n",
       "  <thead>\n",
       "    <tr>\n",
       "      <th class=\"blank level0\" >&nbsp;</th>\n",
       "      <th id=\"T_105c3_level0_col0\" class=\"col_heading level0 col0\" >URL</th>\n",
       "      <th id=\"T_105c3_level0_col1\" class=\"col_heading level0 col1\" >Label</th>\n",
       "    </tr>\n",
       "  </thead>\n",
       "  <tbody>\n",
       "    <tr>\n",
       "      <th id=\"T_105c3_level0_row0\" class=\"row_heading level0 row0\" >0</th>\n",
       "      <td id=\"T_105c3_row0_col0\" class=\"data row0 col0\" >http://02234.cc/index.php/voddetail69008.html</td>\n",
       "      <td id=\"T_105c3_row0_col1\" class=\"data row0 col1\" >Harmless</td>\n",
       "    </tr>\n",
       "    <tr>\n",
       "      <th id=\"T_105c3_level0_row1\" class=\"row_heading level0 row1\" >1</th>\n",
       "      <td id=\"T_105c3_row1_col0\" class=\"data row1 col0\" >http://02234.cc/index.php/voddetail69008.html</td>\n",
       "      <td id=\"T_105c3_row1_col1\" class=\"data row1 col1\" >Harmless</td>\n",
       "    </tr>\n",
       "    <tr>\n",
       "      <th id=\"T_105c3_level0_row2\" class=\"row_heading level0 row2\" >2</th>\n",
       "      <td id=\"T_105c3_row2_col0\" class=\"data row2 col0\" >http://02234.cc/index.php/voddetail69008.html</td>\n",
       "      <td id=\"T_105c3_row2_col1\" class=\"data row2 col1\" >Harmless</td>\n",
       "    </tr>\n",
       "    <tr>\n",
       "      <th id=\"T_105c3_level0_row3\" class=\"row_heading level0 row3\" >3</th>\n",
       "      <td id=\"T_105c3_row3_col0\" class=\"data row3 col0\" >http://03dev.com/voddetail/435588.html</td>\n",
       "      <td id=\"T_105c3_row3_col1\" class=\"data row3 col1\" >Harmless</td>\n",
       "    </tr>\n",
       "    <tr>\n",
       "      <th id=\"T_105c3_level0_row4\" class=\"row_heading level0 row4\" >4</th>\n",
       "      <td id=\"T_105c3_row4_col0\" class=\"data row4 col0\" >http://03dev.com/voddetail/435588.html</td>\n",
       "      <td id=\"T_105c3_row4_col1\" class=\"data row4 col1\" >Harmless</td>\n",
       "    </tr>\n",
       "    <tr>\n",
       "      <th id=\"T_105c3_level0_row5\" class=\"row_heading level0 row5\" >787147</th>\n",
       "      <td id=\"T_105c3_row5_col0\" class=\"data row5 col0\" >https://zygrib.org/forum/ucp.php?mode=privacy&sid=b37ffae204825332e6ccbb08e766bcc2</td>\n",
       "      <td id=\"T_105c3_row5_col1\" class=\"data row5 col1\" >Harmless</td>\n",
       "    </tr>\n",
       "    <tr>\n",
       "      <th id=\"T_105c3_level0_row6\" class=\"row_heading level0 row6\" >787148</th>\n",
       "      <td id=\"T_105c3_row6_col0\" class=\"data row6 col0\" >https://zygrib.org/forum/ucp.php?mode=privacy&sid=b37ffae204825332e6ccbb08e766bcc2</td>\n",
       "      <td id=\"T_105c3_row6_col1\" class=\"data row6 col1\" >Harmless</td>\n",
       "    </tr>\n",
       "    <tr>\n",
       "      <th id=\"T_105c3_level0_row7\" class=\"row_heading level0 row7\" >787149</th>\n",
       "      <td id=\"T_105c3_row7_col0\" class=\"data row7 col0\" >https://zyrixe.pp.ua/zokubishi/jak-plesti-kosichki-samij-sobi-poetapno.html</td>\n",
       "      <td id=\"T_105c3_row7_col1\" class=\"data row7 col1\" >Harmless</td>\n",
       "    </tr>\n",
       "    <tr>\n",
       "      <th id=\"T_105c3_level0_row8\" class=\"row_heading level0 row8\" >787150</th>\n",
       "      <td id=\"T_105c3_row8_col0\" class=\"data row8 col0\" >https://zyrixe.pp.ua/zokubishi/jak-plesti-kosichki-samij-sobi-poetapno.html</td>\n",
       "      <td id=\"T_105c3_row8_col1\" class=\"data row8 col1\" >Harmless</td>\n",
       "    </tr>\n",
       "    <tr>\n",
       "      <th id=\"T_105c3_level0_row9\" class=\"row_heading level0 row9\" >787151</th>\n",
       "      <td id=\"T_105c3_row9_col0\" class=\"data row9 col0\" >https://zyrixe.pp.ua/zokubishi/jak-plesti-kosichki-samij-sobi-poetapno.html</td>\n",
       "      <td id=\"T_105c3_row9_col1\" class=\"data row9 col1\" >Harmless</td>\n",
       "    </tr>\n",
       "  </tbody>\n",
       "</table>\n"
      ],
      "text/plain": [
       "<pandas.io.formats.style.Styler at 0x7fe710557190>"
      ]
     },
     "execution_count": 41,
     "metadata": {},
     "output_type": "execute_result"
    }
   ],
   "source": [
    "# Combine the first 5 and last 5 rows into a single DataFrame\n",
    "combined_rows = pd.concat([df_harmless_cleaned.head(5), df_harmless_cleaned.tail(5)])\n",
    "\n",
    "# Display the combined rows as a styled table\n",
    "styled_table = combined_rows.style.set_table_styles(\n",
    "    [{'selector': 'thead th', 'props': [('background-color', '#2c3e50'), ('color', 'white'), ('font-weight', 'bold'), ('padding', '10px')]},\n",
    "     {'selector': 'tbody td', 'props': [('background-color', '#ecf0f1'), ('color', '#2c3e50'), ('border', '1px solid #ccc'), ('text-align', 'left'), ('padding', '10px')]}]\n",
    ").set_properties(**{\n",
    "    'text-align': 'left',\n",
    "    'padding': '10px'\n",
    "})\n",
    "\n",
    "styled_table\n"
   ]
  },
  {
   "cell_type": "markdown",
   "id": "614a980e",
   "metadata": {},
   "source": [
    "# Combine both Harmful and Harmless"
   ]
  },
  {
   "cell_type": "code",
   "execution_count": 42,
   "id": "19bc2a7d",
   "metadata": {},
   "outputs": [
    {
     "name": "stdout",
     "output_type": "stream",
     "text": [
      "Number of harmful URLs: 324641\n",
      "Number of harmless URLs: 787152\n",
      "Total number of URLs after combining: 1111793\n",
      "Combined harmful and harmless URLs data saved as TestData_Harmful_and_Harmless_URLs.csv\n",
      "Deleted combined_harmful_urls.csv\n",
      "Deleted Cleaned_Harmless_urls_commoncrawl.csv\n"
     ]
    }
   ],
   "source": [
    "# Specify the data types for each column to ensure consistent loading\n",
    "dtype_spec = {\n",
    "    'URL': str,\n",
    "    'Label': str\n",
    "}\n",
    "\n",
    "# Load the cleaned harmful and harmless URLs into DataFrames\n",
    "df_harmful_cleaned = pd.read_csv('combined_harmful_urls.csv', dtype=dtype_spec, low_memory=False)\n",
    "df_harmless_cleaned = pd.read_csv('Cleaned_Harmless_urls_commoncrawl.csv', dtype=dtype_spec, low_memory=False)\n",
    "\n",
    "# Count the number of harmful and harmless URLs\n",
    "num_harmful = df_harmful_cleaned.shape[0]\n",
    "num_harmless = df_harmless_cleaned.shape[0]\n",
    "\n",
    "print(f\"Number of harmful URLs: {num_harmful}\")\n",
    "print(f\"Number of harmless URLs: {num_harmless}\")\n",
    "\n",
    "# Combine the harmful and harmless DataFrames into one\n",
    "df_combined = pd.concat([df_harmful_cleaned, df_harmless_cleaned])\n",
    "\n",
    "# Count the total number of URLs after combining\n",
    "total_urls = df_combined.shape[0]\n",
    "print(f\"Total number of URLs after combining: {total_urls}\")\n",
    "\n",
    "# Save the combined DataFrame to a new CSV file\n",
    "final_csv_filename = 'TestData_Harmful_and_Harmless_URLs.csv'\n",
    "df_combined.to_csv(final_csv_filename, index=False)\n",
    "\n",
    "print(f\"Combined harmful and harmless URLs data saved as {final_csv_filename}\")\n",
    "\n",
    "# Delete the individual CSV files after combining\n",
    "# Note: If you want to keep the original individual CSV files (e.g., for backup or further analysis),\n",
    "# you can comment out or remove the following block of code.\n",
    "\n",
    "files_to_delete = ['combined_harmful_urls.csv', 'Cleaned_Harmless_urls_commoncrawl.csv']\n",
    "\n",
    "for file in files_to_delete:\n",
    "    if os.path.exists(file):\n",
    "        try:\n",
    "            os.remove(file)\n",
    "            print(f\"Deleted {file}\")\n",
    "        except Exception as e:\n",
    "            print(f\"Failed to delete {file}: {e}\")\n",
    "    else:\n",
    "        print(f\"No file named {file} found.\")\n"
   ]
  },
  {
   "cell_type": "code",
   "execution_count": 43,
   "id": "08a4271a",
   "metadata": {},
   "outputs": [
    {
     "name": "stdout",
     "output_type": "stream",
     "text": [
      "Randomized harmful and harmless URLs data saved as Randomized_TestData_Harmful_and_Harmless_URLs.csv\n",
      "Deleted TestData_Harmful_and_Harmless_URLs.csv\n"
     ]
    },
    {
     "data": {
      "text/html": [
       "<style type=\"text/css\">\n",
       "#T_1ab7e thead th {\n",
       "  background-color: #2c3e50;\n",
       "  color: white;\n",
       "  font-weight: bold;\n",
       "}\n",
       "#T_1ab7e tbody td {\n",
       "  background-color: #ecf0f1;\n",
       "  color: #2c3e50;\n",
       "  padding: 10px;\n",
       "  border: 1px solid #ccc;\n",
       "}\n",
       "#T_1ab7e_row0_col0, #T_1ab7e_row0_col1, #T_1ab7e_row1_col0, #T_1ab7e_row1_col1, #T_1ab7e_row2_col0, #T_1ab7e_row2_col1, #T_1ab7e_row3_col0, #T_1ab7e_row3_col1, #T_1ab7e_row4_col0, #T_1ab7e_row4_col1, #T_1ab7e_row5_col0, #T_1ab7e_row5_col1, #T_1ab7e_row6_col0, #T_1ab7e_row6_col1, #T_1ab7e_row7_col0, #T_1ab7e_row7_col1, #T_1ab7e_row8_col0, #T_1ab7e_row8_col1, #T_1ab7e_row9_col0, #T_1ab7e_row9_col1 {\n",
       "  text-align: left;\n",
       "}\n",
       "</style>\n",
       "<table id=\"T_1ab7e\">\n",
       "  <thead>\n",
       "    <tr>\n",
       "      <th class=\"blank level0\" >&nbsp;</th>\n",
       "      <th id=\"T_1ab7e_level0_col0\" class=\"col_heading level0 col0\" >URL</th>\n",
       "      <th id=\"T_1ab7e_level0_col1\" class=\"col_heading level0 col1\" >Label</th>\n",
       "    </tr>\n",
       "  </thead>\n",
       "  <tbody>\n",
       "    <tr>\n",
       "      <th id=\"T_1ab7e_level0_row0\" class=\"row_heading level0 row0\" >0</th>\n",
       "      <td id=\"T_1ab7e_row0_col0\" class=\"data row0 col0\" >https://autopartsandequipment.com/tag/bluetec/</td>\n",
       "      <td id=\"T_1ab7e_row0_col1\" class=\"data row0 col1\" >Harmless</td>\n",
       "    </tr>\n",
       "    <tr>\n",
       "      <th id=\"T_1ab7e_level0_row1\" class=\"row_heading level0 row1\" >1</th>\n",
       "      <td id=\"T_1ab7e_row1_col0\" class=\"data row1 col0\" >http://42.226.66.30:52165/Mozi.m</td>\n",
       "      <td id=\"T_1ab7e_row1_col1\" class=\"data row1 col1\" >Malware</td>\n",
       "    </tr>\n",
       "    <tr>\n",
       "      <th id=\"T_1ab7e_level0_row2\" class=\"row_heading level0 row2\" >2</th>\n",
       "      <td id=\"T_1ab7e_row2_col0\" class=\"data row2 col0\" >http://mail.sitefind.top:8888/22509121009108.dll</td>\n",
       "      <td id=\"T_1ab7e_row2_col1\" class=\"data row2 col1\" >Malware</td>\n",
       "    </tr>\n",
       "    <tr>\n",
       "      <th id=\"T_1ab7e_level0_row3\" class=\"row_heading level0 row3\" >3</th>\n",
       "      <td id=\"T_1ab7e_row3_col0\" class=\"data row3 col0\" >https://www.register-yacht-seychelles.com/de/boat-insurance.html</td>\n",
       "      <td id=\"T_1ab7e_row3_col1\" class=\"data row3 col1\" >Harmless</td>\n",
       "    </tr>\n",
       "    <tr>\n",
       "      <th id=\"T_1ab7e_level0_row4\" class=\"row_heading level0 row4\" >4</th>\n",
       "      <td id=\"T_1ab7e_row4_col0\" class=\"data row4 col0\" >https://www.bwjunior.hants.sch.uk/about-the-school/school-history/1993</td>\n",
       "      <td id=\"T_1ab7e_row4_col1\" class=\"data row4 col1\" >Harmless</td>\n",
       "    </tr>\n",
       "    <tr>\n",
       "      <th id=\"T_1ab7e_level0_row5\" class=\"row_heading level0 row5\" >1111788</th>\n",
       "      <td id=\"T_1ab7e_row5_col0\" class=\"data row5 col0\" >https://secure04chase-git-main-gaxz123s-projects.vercel.app/index.html</td>\n",
       "      <td id=\"T_1ab7e_row5_col1\" class=\"data row5 col1\" >Phishing</td>\n",
       "    </tr>\n",
       "    <tr>\n",
       "      <th id=\"T_1ab7e_level0_row6\" class=\"row_heading level0 row6\" >1111789</th>\n",
       "      <td id=\"T_1ab7e_row6_col0\" class=\"data row6 col0\" >https://jfhisiifgyuhjiu477.weeblysite.com/</td>\n",
       "      <td id=\"T_1ab7e_row6_col1\" class=\"data row6 col1\" >Phishing</td>\n",
       "    </tr>\n",
       "    <tr>\n",
       "      <th id=\"T_1ab7e_level0_row7\" class=\"row_heading level0 row7\" >1111790</th>\n",
       "      <td id=\"T_1ab7e_row7_col0\" class=\"data row7 col0\" >http://tvietnam.com/bbs/board.php?bo_table=a01&wr_id=746</td>\n",
       "      <td id=\"T_1ab7e_row7_col1\" class=\"data row7 col1\" >Harmless</td>\n",
       "    </tr>\n",
       "    <tr>\n",
       "      <th id=\"T_1ab7e_level0_row8\" class=\"row_heading level0 row8\" >1111791</th>\n",
       "      <td id=\"T_1ab7e_row8_col0\" class=\"data row8 col0\" >https://customavto.ru/kak-zaregistrirovatsja-v-kraken.html</td>\n",
       "      <td id=\"T_1ab7e_row8_col1\" class=\"data row8 col1\" >Harmless</td>\n",
       "    </tr>\n",
       "    <tr>\n",
       "      <th id=\"T_1ab7e_level0_row9\" class=\"row_heading level0 row9\" >1111792</th>\n",
       "      <td id=\"T_1ab7e_row9_col0\" class=\"data row9 col0\" >https://www.go-on-film.com/yingnanchaozhong/3982115.html</td>\n",
       "      <td id=\"T_1ab7e_row9_col1\" class=\"data row9 col1\" >Harmless</td>\n",
       "    </tr>\n",
       "  </tbody>\n",
       "</table>\n"
      ],
      "text/plain": [
       "<pandas.io.formats.style.Styler at 0x7fe73324e7c0>"
      ]
     },
     "execution_count": 43,
     "metadata": {},
     "output_type": "execute_result"
    }
   ],
   "source": [
    "# Randomize the rows in the DataFrame\n",
    "df_randomized = df_combined.sample(frac=1).reset_index(drop=True)\n",
    "\n",
    "# Save the randomized DataFrame to a new CSV file\n",
    "randomized_csv_filename = 'Randomized_TestData_Harmful_and_Harmless_URLs.csv'\n",
    "df_randomized.to_csv(randomized_csv_filename, index=False)\n",
    "\n",
    "print(f\"Randomized harmful and harmless URLs data saved as {randomized_csv_filename}\")\n",
    "\n",
    "# Optionally delete the combined CSV file after randomizing\n",
    "# Note: If you want to keep the original combined CSV file (e.g., for backup or further analysis),\n",
    "# you can comment out or remove the following block of code.\n",
    "\n",
    "combined_csv_filename = 'TestData_Harmful_and_Harmless_URLs.csv'\n",
    "\n",
    "if os.path.exists(combined_csv_filename):\n",
    "    try:\n",
    "        os.remove(combined_csv_filename)\n",
    "        print(f\"Deleted {combined_csv_filename}\")\n",
    "    except Exception as e:\n",
    "        print(f\"Failed to delete {combined_csv_filename}: {e}\")\n",
    "else:\n",
    "    print(f\"No file named {combined_csv_filename} found.\")\n",
    "\n",
    "# Combine the first 5 and last 5 rows into a single DataFrame\n",
    "combined_rows = pd.concat([df_randomized.head(5), df_randomized.tail(5)])\n",
    "\n",
    "# Display the combined rows as a colorful table with your preferred style\n",
    "styled_table = combined_rows.style.set_table_styles([\n",
    "    {'selector': 'thead th', 'props': [('background-color', '#2c3e50'), ('color', 'white'), ('font-weight', 'bold')]},\n",
    "    {'selector': 'tbody td', 'props': [('background-color', '#ecf0f1'), ('color', '#2c3e50'), ('padding', '10px'), ('border', '1px solid #ccc')]}\n",
    "]).set_properties(**{\n",
    "    'text-align': 'left',\n",
    "})\n",
    "\n",
    "styled_table\n"
   ]
  },
  {
   "cell_type": "code",
   "execution_count": 44,
   "id": "e4cc8cdb",
   "metadata": {},
   "outputs": [
    {
     "data": {
      "image/png": "[encoded data removed]",
      "text/plain": [
       "<Figure size 1008x720 with 3 Axes>"
      ]
     },
     "metadata": {
      "needs_background": "light"
     },
     "output_type": "display_data"
    }
   ],
   "source": [
    "import matplotlib.pyplot as plt\n",
    "import seaborn as sns\n",
    "\n",
    "# Count the occurrences of each category in the 'Label' column\n",
    "category_counts = df_randomized['Label'].value_counts()\n",
    "\n",
    "# Define the colors\n",
    "colors = ['#2ecc71', '#f39c12', '#e74c3c', '#3498db', '#9b59b6', '#e67e22', '#34495e']\n",
    "\n",
    "# Set up the 2x2 grid layout with only 3 active plots and space for the legend\n",
    "fig, axs = plt.subplots(2, 2, figsize=(14, 10))\n",
    "fig.delaxes(axs[1, 1])  # Remove the bottom-right empty plot\n",
    "\n",
    "# Pie Chart\n",
    "axs[0, 0].pie(category_counts, labels=None, autopct='%1.1f%%', startangle=140, colors=colors)\n",
    "axs[0, 0].set_title('Pie Chart: URL Categories', fontsize=14, fontweight='bold')\n",
    "\n",
    "# Bar Chart\n",
    "category_counts.plot(kind='bar', color=colors, ax=axs[0, 1])\n",
    "axs[0, 1].set_title('Bar Chart: Number of URLs per Category', fontsize=14, fontweight='bold')\n",
    "axs[0, 1].set_xlabel('Category')\n",
    "axs[0, 1].set_ylabel('Number of URLs')\n",
    "axs[0, 1].tick_params(axis='x', rotation=45)\n",
    "\n",
    "# Donut Chart\n",
    "axs[1, 0].pie(category_counts, labels=None, autopct='%1.1f%%', startangle=140, colors=colors, wedgeprops=dict(width=0.4))\n",
    "axs[1, 0].set_title('Donut Chart: URL Categories', fontsize=14, fontweight='bold')\n",
    "\n",
    "# Adding the legend in the bottom-right corner with larger font size\n",
    "labels = list(category_counts.index)\n",
    "handles = [plt.Line2D([0], [0], marker='o', color='w', label=label, markersize=10, markerfacecolor=color) \n",
    "           for label, color in zip(labels, colors)]\n",
    "fig.legend(handles=handles, labels=labels, loc='center', bbox_to_anchor=(0.85, 0.3), title=\"Categories\", fontsize=14, title_fontsize=16)\n",
    "\n",
    "# Adjust layout\n",
    "plt.tight_layout()\n",
    "plt.show()\n"
   ]
  },
  {
   "cell_type": "markdown",
   "id": "03c5c1b0",
   "metadata": {},
   "source": [
    "# 🌟 **Category Counts Summary** 🌟\n",
    "\n",
    "Below is a breakdown of the number of URLs in each category:\n",
    "\n",
    "---\n",
    "\n"
   ]
  },
  {
   "cell_type": "code",
   "execution_count": 45,
   "id": "babc0428",
   "metadata": {},
   "outputs": [
    {
     "name": "stdout",
     "output_type": "stream",
     "text": [
      "\n",
      "============================================================\n",
      "                🌟 Category Counts Summary 🌟                 \n",
      "============================================================\n",
      "\n",
      "                   **Harmless:** `787152`                   \n",
      "------------------------------------------------------------\n",
      "                   **Malware:** `278626`                    \n",
      "------------------------------------------------------------\n",
      "                  **Suspicious:** `20334`                   \n",
      "------------------------------------------------------------\n",
      "                   **Phishing:** `16892`                    \n",
      "------------------------------------------------------------\n",
      "                     **Likely:** `5260`                     \n",
      "------------------------------------------------------------\n",
      "              **Definitely Phishing:** `3529`               \n",
      "------------------------------------------------------------\n",
      "\n",
      "============================================================\n",
      "           🔢 **Total URLs Processed:** `1111793`            \n",
      "============================================================\n",
      "\n"
     ]
    }
   ],
   "source": [
    "# Count the occurrences of each category in the 'Label' column\n",
    "category_counts = df_randomized['Label'].value_counts()\n",
    "\n",
    "# Stylish print of the category counts\n",
    "print(\"\\n\" + \"=\"*60)\n",
    "print(\"🌟 Category Counts Summary 🌟\".center(60, \" \"))\n",
    "print(\"=\"*60 + \"\\n\")\n",
    "\n",
    "for category, count in category_counts.items():\n",
    "    print(f\"**{category}:** `{count}`\".center(60, \" \"))\n",
    "    print(\"-\" * 60)\n",
    "\n",
    "# Print the total number of URLs\n",
    "total_urls = df_randomized.shape[0]\n",
    "print(\"\\n\" + \"=\"*60)\n",
    "print(f\"🔢 **Total URLs Processed:** `{total_urls}`\".center(60, \" \"))\n",
    "print(\"=\"*60 + \"\\n\")\n"
   ]
  },
  {
   "cell_type": "markdown",
   "id": "e1f140d7",
   "metadata": {},
   "source": [
    "# 💾 **Output Information** 💾\n",
    "\n",
    "The randomized data has been successfully saved to the file:\n",
    "\n",
    "### Randomized_TestData_Harmful_and_Harmless_URLs.csv\n",
    "\n",
    "You can find this file in the folder where you are running this code.\n"
   ]
  },
  {
   "cell_type": "markdown",
   "id": "681e8856",
   "metadata": {},
   "source": [
    "#  **Thank You for Using This Script!** \n",
    "\n",
    "💻 **Happy Data Processing!**"
   ]
  },
  {
   "cell_type": "markdown",
   "id": "81d92e0c",
   "metadata": {},
   "source": [
    "### Author Information\n",
    "Author: Ratanakmoni Slot\n",
    "\n",
    "Student ID: 222146996\n",
    "\n",
    "Email Contact: 222146996@deakin.edu.au\n",
    "\n",
    "Course: Bachelors of Cybersecurity\n",
    "\n",
    "University: Deakin University\n",
    "\n",
    "Trimester: Trimester 2, 2024\n",
    "\n",
    "Feel free to reach out 🤙🏻"
   ]
  },
  {
   "cell_type": "code",
   "execution_count": null,
   "id": "06467124",
   "metadata": {},
   "outputs": [],
   "source": []
  }
 ],
 "metadata": {
  "kernelspec": {
   "display_name": "Python 3 (ipykernel)",
   "language": "python",
   "name": "python3"
  },
  "language_info": {
   "codemirror_mode": {
    "name": "ipython",
    "version": 3
   },
   "file_extension": ".py",
   "mimetype": "text/x-python",
   "name": "python",
   "nbconvert_exporter": "python",
   "pygments_lexer": "ipython3",
   "version": "3.9.12"
  }
 },
 "nbformat": 4,
 "nbformat_minor": 5
}
